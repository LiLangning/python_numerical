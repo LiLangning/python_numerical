{
 "cells": [
  {
   "cell_type": "markdown",
   "id": "massive-kernel",
   "metadata": {},
   "source": [
    "# chp2 Python 编程基础：part4 -2 异常与错误处理\n",
    "\n"
   ]
  },
  {
   "cell_type": "markdown",
   "id": "dominican-michigan",
   "metadata": {},
   "source": [
    "## 句法错误\n",
    "\n",
    "程序执行前就可以检测到，但只报第一个错误。"
   ]
  },
  {
   "cell_type": "code",
   "execution_count": 1,
   "id": "ambient-cover",
   "metadata": {},
   "outputs": [
    {
     "ename": "SyntaxError",
     "evalue": "invalid character '：' (U+FF1A) (1836516672.py, line 4)",
     "output_type": "error",
     "traceback": [
      "\u001b[0;36m  Input \u001b[0;32mIn [1]\u001b[0;36m\u001b[0m\n\u001b[0;31m    for x in range(9)：\u001b[0m\n\u001b[0m                     ^\u001b[0m\n\u001b[0;31mSyntaxError\u001b[0m\u001b[0;31m:\u001b[0m invalid character '：' (U+FF1A)\n"
     ]
    }
   ],
   "source": [
    "def f():\n",
    "    print('hello')\n",
    "    prinf('hello')\n",
    "    for x in range(9)：\n",
    "    print(x)"
   ]
  },
  {
   "cell_type": "code",
   "execution_count": 2,
   "id": "binary-reply",
   "metadata": {},
   "outputs": [
    {
     "ename": "NameError",
     "evalue": "name 'f' is not defined",
     "output_type": "error",
     "traceback": [
      "\u001b[0;31m---------------------------------------------------------------------------\u001b[0m",
      "\u001b[0;31mNameError\u001b[0m                                 Traceback (most recent call last)",
      "Input \u001b[0;32mIn [2]\u001b[0m, in \u001b[0;36m<cell line: 1>\u001b[0;34m()\u001b[0m\n\u001b[0;32m----> 1\u001b[0m \u001b[43mf\u001b[49m()\n",
      "\u001b[0;31mNameError\u001b[0m: name 'f' is not defined"
     ]
    }
   ],
   "source": [
    "f()"
   ]
  },
  {
   "cell_type": "markdown",
   "id": "pregnant-psychiatry",
   "metadata": {},
   "source": [
    "### 异常"
   ]
  },
  {
   "cell_type": "markdown",
   "id": "secret-avatar",
   "metadata": {},
   "source": [
    "#### AssertionError"
   ]
  },
  {
   "cell_type": "code",
   "execution_count": 3,
   "id": "wicked-captain",
   "metadata": {},
   "outputs": [
    {
     "ename": "AssertionError",
     "evalue": "",
     "output_type": "error",
     "traceback": [
      "\u001b[0;31m---------------------------------------------------------------------------\u001b[0m",
      "\u001b[0;31mAssertionError\u001b[0m                            Traceback (most recent call last)",
      "Input \u001b[0;32mIn [3]\u001b[0m, in \u001b[0;36m<cell line: 1>\u001b[0;34m()\u001b[0m\n\u001b[0;32m----> 1\u001b[0m \u001b[38;5;28;01massert\u001b[39;00m \u001b[38;5;241m3\u001b[39m \u001b[38;5;241m==\u001b[39m \u001b[38;5;241m5\u001b[39m\n",
      "\u001b[0;31mAssertionError\u001b[0m: "
     ]
    }
   ],
   "source": [
    "assert 3 == 5"
   ]
  },
  {
   "cell_type": "markdown",
   "id": "indirect-emerald",
   "metadata": {},
   "source": [
    "#### AttributeError"
   ]
  },
  {
   "cell_type": "code",
   "execution_count": 4,
   "id": "specified-compilation",
   "metadata": {},
   "outputs": [
    {
     "ename": "AttributeError",
     "evalue": "'list' object has no attribute 'sum'",
     "output_type": "error",
     "traceback": [
      "\u001b[0;31m---------------------------------------------------------------------------\u001b[0m",
      "\u001b[0;31mAttributeError\u001b[0m                            Traceback (most recent call last)",
      "Input \u001b[0;32mIn [4]\u001b[0m, in \u001b[0;36m<cell line: 1>\u001b[0;34m()\u001b[0m\n\u001b[0;32m----> 1\u001b[0m \u001b[43m[\u001b[49m\u001b[38;5;241;43m1\u001b[39;49m\u001b[43m,\u001b[49m\u001b[43m \u001b[49m\u001b[38;5;241;43m3\u001b[39;49m\u001b[43m,\u001b[49m\u001b[43m \u001b[49m\u001b[38;5;241;43m5\u001b[39;49m\u001b[43m]\u001b[49m\u001b[38;5;241;43m.\u001b[39;49m\u001b[43msum\u001b[49m()\n",
      "\u001b[0;31mAttributeError\u001b[0m: 'list' object has no attribute 'sum'"
     ]
    }
   ],
   "source": [
    "[1, 3, 5].sum()"
   ]
  },
  {
   "cell_type": "markdown",
   "id": "capable-glass",
   "metadata": {},
   "source": [
    "#### ImportError"
   ]
  },
  {
   "cell_type": "code",
   "execution_count": 36,
   "id": "pregnant-provincial",
   "metadata": {},
   "outputs": [
    {
     "ename": "ImportError",
     "evalue": "cannot import name 'xxxsss' from 'sys' (unknown location)",
     "output_type": "error",
     "traceback": [
      "\u001b[0;31m---------------------------------------------------------------------------\u001b[0m",
      "\u001b[0;31mImportError\u001b[0m                               Traceback (most recent call last)",
      "\u001b[0;32m<ipython-input-36-00785889e1d1>\u001b[0m in \u001b[0;36m<module>\u001b[0;34m\u001b[0m\n\u001b[0;32m----> 1\u001b[0;31m \u001b[0;32mfrom\u001b[0m \u001b[0msys\u001b[0m \u001b[0;32mimport\u001b[0m \u001b[0mxxxsss\u001b[0m\u001b[0;34m\u001b[0m\u001b[0;34m\u001b[0m\u001b[0m\n\u001b[0m",
      "\u001b[0;31mImportError\u001b[0m: cannot import name 'xxxsss' from 'sys' (unknown location)"
     ]
    }
   ],
   "source": [
    "from sys import xxxsss"
   ]
  },
  {
   "cell_type": "markdown",
   "id": "express-package",
   "metadata": {},
   "source": [
    "#### IndexError"
   ]
  },
  {
   "cell_type": "code",
   "execution_count": 37,
   "id": "strange-stylus",
   "metadata": {},
   "outputs": [
    {
     "ename": "IndexError",
     "evalue": "list assignment index out of range",
     "output_type": "error",
     "traceback": [
      "\u001b[0;31m---------------------------------------------------------------------------\u001b[0m",
      "\u001b[0;31mIndexError\u001b[0m                                Traceback (most recent call last)",
      "\u001b[0;32m<ipython-input-37-87ed13652beb>\u001b[0m in \u001b[0;36m<module>\u001b[0;34m\u001b[0m\n\u001b[1;32m      1\u001b[0m \u001b[0ma\u001b[0m \u001b[0;34m=\u001b[0m \u001b[0;34m[\u001b[0m\u001b[0;36m3\u001b[0m\u001b[0;34m,\u001b[0m \u001b[0;36m6\u001b[0m\u001b[0;34m]\u001b[0m\u001b[0;34m\u001b[0m\u001b[0;34m\u001b[0m\u001b[0m\n\u001b[0;32m----> 2\u001b[0;31m \u001b[0ma\u001b[0m\u001b[0;34m[\u001b[0m\u001b[0;36m3\u001b[0m\u001b[0;34m]\u001b[0m \u001b[0;34m=\u001b[0m \u001b[0;36m0\u001b[0m\u001b[0;34m\u001b[0m\u001b[0;34m\u001b[0m\u001b[0m\n\u001b[0m",
      "\u001b[0;31mIndexError\u001b[0m: list assignment index out of range"
     ]
    }
   ],
   "source": [
    "a = [3, 6]\n",
    "a[3] = 0"
   ]
  },
  {
   "cell_type": "markdown",
   "id": "amended-resistance",
   "metadata": {},
   "source": [
    "#### KeyError"
   ]
  },
  {
   "cell_type": "code",
   "execution_count": 38,
   "id": "every-newark",
   "metadata": {},
   "outputs": [],
   "source": [
    "d = {'mon':1}"
   ]
  },
  {
   "cell_type": "code",
   "execution_count": 39,
   "id": "aquatic-bumper",
   "metadata": {},
   "outputs": [
    {
     "ename": "KeyError",
     "evalue": "'sec'",
     "output_type": "error",
     "traceback": [
      "\u001b[0;31m---------------------------------------------------------------------------\u001b[0m",
      "\u001b[0;31mKeyError\u001b[0m                                  Traceback (most recent call last)",
      "\u001b[0;32m<ipython-input-39-ee62287b1786>\u001b[0m in \u001b[0;36m<module>\u001b[0;34m\u001b[0m\n\u001b[0;32m----> 1\u001b[0;31m \u001b[0md\u001b[0m\u001b[0;34m[\u001b[0m\u001b[0;34m'sec'\u001b[0m\u001b[0;34m]\u001b[0m\u001b[0;34m\u001b[0m\u001b[0;34m\u001b[0m\u001b[0m\n\u001b[0m",
      "\u001b[0;31mKeyError\u001b[0m: 'sec'"
     ]
    }
   ],
   "source": [
    "d['sec']"
   ]
  },
  {
   "cell_type": "markdown",
   "id": "confirmed-indian",
   "metadata": {},
   "source": [
    "#### NameError"
   ]
  },
  {
   "cell_type": "code",
   "execution_count": 41,
   "id": "shaped-desire",
   "metadata": {},
   "outputs": [
    {
     "ename": "NameError",
     "evalue": "name 'bbb' is not defined",
     "output_type": "error",
     "traceback": [
      "\u001b[0;31m---------------------------------------------------------------------------\u001b[0m",
      "\u001b[0;31mNameError\u001b[0m                                 Traceback (most recent call last)",
      "\u001b[0;32m<ipython-input-41-fdb9e1f0afd2>\u001b[0m in \u001b[0;36m<module>\u001b[0;34m\u001b[0m\n\u001b[0;32m----> 1\u001b[0;31m \u001b[0mx\u001b[0m \u001b[0;34m=\u001b[0m \u001b[0mbbb\u001b[0m\u001b[0;34m\u001b[0m\u001b[0;34m\u001b[0m\u001b[0m\n\u001b[0m",
      "\u001b[0;31mNameError\u001b[0m: name 'bbb' is not defined"
     ]
    }
   ],
   "source": [
    "x = bbb"
   ]
  },
  {
   "cell_type": "markdown",
   "id": "altered-space",
   "metadata": {},
   "source": [
    "#### OverflowError"
   ]
  },
  {
   "cell_type": "code",
   "execution_count": 42,
   "id": "respected-poster",
   "metadata": {},
   "outputs": [
    {
     "ename": "OverflowError",
     "evalue": "(34, 'Result too large')",
     "output_type": "error",
     "traceback": [
      "\u001b[0;31m---------------------------------------------------------------------------\u001b[0m",
      "\u001b[0;31mOverflowError\u001b[0m                             Traceback (most recent call last)",
      "\u001b[0;32m<ipython-input-42-bd03a51e6d87>\u001b[0m in \u001b[0;36m<module>\u001b[0;34m\u001b[0m\n\u001b[0;32m----> 1\u001b[0;31m \u001b[0;36m1e200\u001b[0m\u001b[0;34m**\u001b[0m\u001b[0;36m500\u001b[0m\u001b[0;34m\u001b[0m\u001b[0;34m\u001b[0m\u001b[0m\n\u001b[0m",
      "\u001b[0;31mOverflowError\u001b[0m: (34, 'Result too large')"
     ]
    }
   ],
   "source": [
    "1e200**500"
   ]
  },
  {
   "cell_type": "markdown",
   "id": "variable-antenna",
   "metadata": {},
   "source": [
    "#### RuntimeError"
   ]
  },
  {
   "cell_type": "code",
   "execution_count": null,
   "id": "sound-xerox",
   "metadata": {},
   "outputs": [],
   "source": []
  },
  {
   "cell_type": "markdown",
   "id": "complete-qatar",
   "metadata": {},
   "source": [
    "#### TypeError"
   ]
  },
  {
   "cell_type": "code",
   "execution_count": 43,
   "id": "dirty-killer",
   "metadata": {},
   "outputs": [
    {
     "ename": "TypeError",
     "evalue": "object of type 'int' has no len()",
     "output_type": "error",
     "traceback": [
      "\u001b[0;31m---------------------------------------------------------------------------\u001b[0m",
      "\u001b[0;31mTypeError\u001b[0m                                 Traceback (most recent call last)",
      "\u001b[0;32m<ipython-input-43-00d7b5c8c880>\u001b[0m in \u001b[0;36m<module>\u001b[0;34m\u001b[0m\n\u001b[0;32m----> 1\u001b[0;31m \u001b[0mlen\u001b[0m\u001b[0;34m(\u001b[0m\u001b[0;36m4\u001b[0m\u001b[0;34m)\u001b[0m\u001b[0;34m\u001b[0m\u001b[0;34m\u001b[0m\u001b[0m\n\u001b[0m",
      "\u001b[0;31mTypeError\u001b[0m: object of type 'int' has no len()"
     ]
    }
   ],
   "source": [
    "len(4)"
   ]
  },
  {
   "cell_type": "markdown",
   "id": "played-rocket",
   "metadata": {},
   "source": [
    "#### ValueError"
   ]
  },
  {
   "cell_type": "code",
   "execution_count": 55,
   "id": "visible-helen",
   "metadata": {},
   "outputs": [
    {
     "ename": "ValueError",
     "evalue": "invalid literal for int() with base 10: 'sdf'",
     "output_type": "error",
     "traceback": [
      "\u001b[0;31m---------------------------------------------------------------------------\u001b[0m",
      "\u001b[0;31mValueError\u001b[0m                                Traceback (most recent call last)",
      "\u001b[0;32m<ipython-input-55-ca1cd459cba1>\u001b[0m in \u001b[0;36m<module>\u001b[0;34m\u001b[0m\n\u001b[0;32m----> 1\u001b[0;31m \u001b[0mint\u001b[0m\u001b[0;34m(\u001b[0m\u001b[0;34m'sdf'\u001b[0m\u001b[0;34m)\u001b[0m\u001b[0;34m\u001b[0m\u001b[0;34m\u001b[0m\u001b[0m\n\u001b[0m",
      "\u001b[0;31mValueError\u001b[0m: invalid literal for int() with base 10: 'sdf'"
     ]
    }
   ],
   "source": [
    "int('sdf')"
   ]
  },
  {
   "cell_type": "markdown",
   "id": "parallel-morocco",
   "metadata": {},
   "source": [
    "#### ZeroDivisionError"
   ]
  },
  {
   "cell_type": "code",
   "execution_count": 16,
   "id": "finnish-showcase",
   "metadata": {},
   "outputs": [
    {
     "ename": "ZeroDivisionError",
     "evalue": "division by zero",
     "output_type": "error",
     "traceback": [
      "\u001b[0;31m---------------------------------------------------------------------------\u001b[0m",
      "\u001b[0;31mZeroDivisionError\u001b[0m                         Traceback (most recent call last)",
      "\u001b[0;32m<ipython-input-16-e8326a161779>\u001b[0m in \u001b[0;36m<module>\u001b[0;34m\u001b[0m\n\u001b[0;32m----> 1\u001b[0;31m \u001b[0;36m2\u001b[0m\u001b[0;34m/\u001b[0m\u001b[0;36m0\u001b[0m\u001b[0;34m\u001b[0m\u001b[0;34m\u001b[0m\u001b[0m\n\u001b[0m",
      "\u001b[0;31mZeroDivisionError\u001b[0m: division by zero"
     ]
    }
   ],
   "source": [
    "2/0"
   ]
  },
  {
   "cell_type": "code",
   "execution_count": 17,
   "id": "armed-belgium",
   "metadata": {},
   "outputs": [
    {
     "data": {
      "text/plain": [
       "type"
      ]
     },
     "execution_count": 17,
     "metadata": {},
     "output_type": "execute_result"
    }
   ],
   "source": [
    "type(ZeroDivisionError)"
   ]
  },
  {
   "cell_type": "code",
   "execution_count": 18,
   "id": "forward-catering",
   "metadata": {},
   "outputs": [
    {
     "data": {
      "text/plain": [
       "4556659176"
      ]
     },
     "execution_count": 18,
     "metadata": {},
     "output_type": "execute_result"
    }
   ],
   "source": [
    "id(ZeroDivisionError)"
   ]
  },
  {
   "cell_type": "code",
   "execution_count": 19,
   "id": "crude-liechtenstein",
   "metadata": {},
   "outputs": [
    {
     "data": {
      "text/plain": [
       "['__cause__',\n",
       " '__class__',\n",
       " '__context__',\n",
       " '__delattr__',\n",
       " '__dict__',\n",
       " '__dir__',\n",
       " '__doc__',\n",
       " '__eq__',\n",
       " '__format__',\n",
       " '__ge__',\n",
       " '__getattribute__',\n",
       " '__gt__',\n",
       " '__hash__',\n",
       " '__init__',\n",
       " '__init_subclass__',\n",
       " '__le__',\n",
       " '__lt__',\n",
       " '__ne__',\n",
       " '__new__',\n",
       " '__reduce__',\n",
       " '__reduce_ex__',\n",
       " '__repr__',\n",
       " '__setattr__',\n",
       " '__setstate__',\n",
       " '__sizeof__',\n",
       " '__str__',\n",
       " '__subclasshook__',\n",
       " '__suppress_context__',\n",
       " '__traceback__',\n",
       " 'args',\n",
       " 'with_traceback']"
      ]
     },
     "execution_count": 19,
     "metadata": {},
     "output_type": "execute_result"
    }
   ],
   "source": [
    "dir(ZeroDivisionError)"
   ]
  },
  {
   "cell_type": "markdown",
   "id": "random-selling",
   "metadata": {},
   "source": [
    "### 异常层次结构"
   ]
  },
  {
   "cell_type": "markdown",
   "id": "brave-hardwood",
   "metadata": {},
   "source": [
    "```\n",
    "BaseException\n",
    " +-- SystemExit\n",
    " +-- KeyboardInterrupt\n",
    " +-- GeneratorExit\n",
    " +-- Exception\n",
    "      +-- StopIteration\n",
    "      +-- StopAsyncIteration\n",
    "      +-- ArithmeticError\n",
    "      |    +-- FloatingPointError\n",
    "      |    +-- OverflowError\n",
    "      |    +-- ZeroDivisionError\n",
    "      +-- AssertionError\n",
    "      +-- AttributeError\n",
    "      +-- BufferError\n",
    "      +-- EOFError\n",
    "      +-- ImportError\n",
    "      |    +-- ModuleNotFoundError\n",
    "      +-- LookupError\n",
    "      |    +-- IndexError\n",
    "      |    +-- KeyError\n",
    "      +-- MemoryError\n",
    "      +-- NameError\n",
    "      |    +-- UnboundLocalError\n",
    "      +-- OSError\n",
    "      |    +-- BlockingIOError\n",
    "      |    +-- ChildProcessError\n",
    "      |    +-- ConnectionError\n",
    "      |    |    +-- BrokenPipeError\n",
    "      |    |    +-- ConnectionAbortedError\n",
    "      |    |    +-- ConnectionRefusedError\n",
    "      |    |    +-- ConnectionResetError\n",
    "      |    +-- FileExistsError\n",
    "      |    +-- FileNotFoundError\n",
    "      |    +-- InterruptedError\n",
    "      |    +-- IsADirectoryError\n",
    "      |    +-- NotADirectoryError\n",
    "      |    +-- PermissionError\n",
    "      |    +-- ProcessLookupError\n",
    "      |    +-- TimeoutError\n",
    "      +-- ReferenceError\n",
    "      +-- RuntimeError\n",
    "      |    +-- NotImplementedError\n",
    "      |    +-- RecursionError\n",
    "      +-- SyntaxError\n",
    "      |    +-- IndentationError\n",
    "      |         +-- TabError\n",
    "      +-- SystemError\n",
    "      +-- TypeError\n",
    "      +-- ValueError\n",
    "      |    +-- UnicodeError\n",
    "      |         +-- UnicodeDecodeError\n",
    "      |         +-- UnicodeEncodeError\n",
    "      |         +-- UnicodeTranslateError\n",
    "      +-- Warning\n",
    "           +-- DeprecationWarning\n",
    "           +-- PendingDeprecationWarning\n",
    "           +-- RuntimeWarning\n",
    "           +-- SyntaxWarning\n",
    "           +-- UserWarning\n",
    "           +-- FutureWarning\n",
    "           +-- ImportWarning\n",
    "           +-- UnicodeWarning\n",
    "           +-- BytesWarning\n",
    "           +-- ResourceWarning\n",
    "```           "
   ]
  },
  {
   "cell_type": "markdown",
   "id": "inner-mercy",
   "metadata": {},
   "source": [
    "### 异常捕捉与处理"
   ]
  },
  {
   "cell_type": "code",
   "execution_count": 5,
   "id": "nuclear-miami",
   "metadata": {},
   "outputs": [
    {
     "name": "stdout",
     "output_type": "stream",
     "text": [
      "done.\n"
     ]
    },
    {
     "ename": "TypeError",
     "evalue": "unsupported operand type(s) for /: 'int' and 'str'",
     "output_type": "error",
     "traceback": [
      "\u001b[0;31m---------------------------------------------------------------------------\u001b[0m",
      "\u001b[0;31mTypeError\u001b[0m                                 Traceback (most recent call last)",
      "Input \u001b[0;32mIn [5]\u001b[0m, in \u001b[0;36m<cell line: 2>\u001b[0;34m()\u001b[0m\n\u001b[1;32m      1\u001b[0m a, b \u001b[38;5;241m=\u001b[39m \u001b[38;5;241m4\u001b[39m, \u001b[38;5;124m'\u001b[39m\u001b[38;5;124mb\u001b[39m\u001b[38;5;124m'\u001b[39m\n\u001b[1;32m      2\u001b[0m \u001b[38;5;28;01mtry\u001b[39;00m:\n\u001b[0;32m----> 3\u001b[0m     x \u001b[38;5;241m=\u001b[39m \u001b[43ma\u001b[49m\u001b[43m \u001b[49m\u001b[38;5;241;43m/\u001b[39;49m\u001b[43m \u001b[49m\u001b[43mb\u001b[49m\n\u001b[1;32m      4\u001b[0m \u001b[38;5;28;01mexcept\u001b[39;00m \u001b[38;5;167;01mZeroDivisionError\u001b[39;00m:\n\u001b[1;32m      5\u001b[0m     \u001b[38;5;28mprint\u001b[39m(\u001b[38;5;124m'\u001b[39m\u001b[38;5;124mb can not be zero.\u001b[39m\u001b[38;5;124m'\u001b[39m)\n",
      "\u001b[0;31mTypeError\u001b[0m: unsupported operand type(s) for /: 'int' and 'str'"
     ]
    }
   ],
   "source": [
    "a, b = 4, 'b'\n",
    "try:\n",
    "    x = a / b\n",
    "except ZeroDivisionError:\n",
    "    print('b can not be zero.')\n",
    "else:\n",
    "    print(f'x = {x}')\n",
    "finally:\n",
    "    print('done.')"
   ]
  },
  {
   "cell_type": "code",
   "execution_count": 6,
   "id": "intelligent-direction",
   "metadata": {},
   "outputs": [
    {
     "name": "stdout",
     "output_type": "stream",
     "text": [
      "a, b must be number\n",
      "done.\n"
     ]
    }
   ],
   "source": [
    "a, b = 4, 'b'\n",
    "try:\n",
    "    x = a / b\n",
    "except ZeroDivisionError:\n",
    "    print('b can not be zero.')\n",
    "except TypeError:\n",
    "    print('a, b must be number')\n",
    "else:\n",
    "    print(f'x = {x}')\n",
    "finally:\n",
    "    print('done.')"
   ]
  },
  {
   "cell_type": "code",
   "execution_count": 12,
   "id": "cloudy-vietnamese",
   "metadata": {},
   "outputs": [],
   "source": [
    "def f(a, b):\n",
    "    try:\n",
    "        x = a / b\n",
    "    except ZeroDivisionError:\n",
    "        print('b can not be zero.')\n",
    "    except TypeError:\n",
    "        print('a, b must be number')\n",
    "    else:\n",
    "        print(f'x = {x}')\n",
    "        return x\n",
    "    finally:\n",
    "        print('done.')"
   ]
  },
  {
   "cell_type": "code",
   "execution_count": 13,
   "id": "hearing-oxide",
   "metadata": {},
   "outputs": [
    {
     "name": "stdout",
     "output_type": "stream",
     "text": [
      "x = 0.75\n",
      "done.\n"
     ]
    },
    {
     "data": {
      "text/plain": [
       "0.75"
      ]
     },
     "execution_count": 13,
     "metadata": {},
     "output_type": "execute_result"
    }
   ],
   "source": [
    "f(3,4)"
   ]
  },
  {
   "cell_type": "code",
   "execution_count": 14,
   "id": "current-rachel",
   "metadata": {},
   "outputs": [
    {
     "name": "stdout",
     "output_type": "stream",
     "text": [
      "b can not be zero.\n",
      "done.\n"
     ]
    }
   ],
   "source": [
    "f(2, 0)"
   ]
  },
  {
   "cell_type": "code",
   "execution_count": 15,
   "id": "finite-handy",
   "metadata": {},
   "outputs": [
    {
     "name": "stdout",
     "output_type": "stream",
     "text": [
      "a, b must be number\n",
      "done.\n"
     ]
    }
   ],
   "source": [
    "f('s', 0)"
   ]
  },
  {
   "cell_type": "code",
   "execution_count": 16,
   "id": "understanding-vegetation",
   "metadata": {},
   "outputs": [
    {
     "ename": "ZeroDivisionError",
     "evalue": "division by zero",
     "output_type": "error",
     "traceback": [
      "\u001b[0;31m---------------------------------------------------------------------------\u001b[0m",
      "\u001b[0;31mZeroDivisionError\u001b[0m                         Traceback (most recent call last)",
      "Input \u001b[0;32mIn [16]\u001b[0m, in \u001b[0;36m<cell line: 1>\u001b[0;34m()\u001b[0m\n\u001b[0;32m----> 1\u001b[0m f(\u001b[38;5;241m9\u001b[39m, \u001b[38;5;241;43m4\u001b[39;49m\u001b[38;5;241;43m/\u001b[39;49m\u001b[38;5;241;43m0\u001b[39;49m)\n",
      "\u001b[0;31mZeroDivisionError\u001b[0m: division by zero"
     ]
    }
   ],
   "source": [
    "f(9, 4/0)  # 4/0 发生在f之前，因此无法捕捉"
   ]
  },
  {
   "cell_type": "code",
   "execution_count": 17,
   "id": "valid-childhood",
   "metadata": {},
   "outputs": [],
   "source": [
    "def g(a, b):\n",
    "    return a / b"
   ]
  },
  {
   "cell_type": "code",
   "execution_count": 18,
   "id": "southern-words",
   "metadata": {},
   "outputs": [],
   "source": [
    "def f2(a, b):\n",
    "    try:\n",
    "        x = g(a, b)\n",
    "    except ZeroDivisionError:\n",
    "        print('b can not be zero.')\n",
    "    except TypeError:\n",
    "        print('a, b must be number')\n",
    "    else:\n",
    "        print(f'x = {x}')\n",
    "        return x\n",
    "    finally:\n",
    "        print('done.')"
   ]
  },
  {
   "cell_type": "code",
   "execution_count": 19,
   "id": "norman-shell",
   "metadata": {},
   "outputs": [
    {
     "name": "stdout",
     "output_type": "stream",
     "text": [
      "b can not be zero.\n",
      "done.\n"
     ]
    }
   ],
   "source": [
    "f2(3, 0)  # g 中引发的异常，在 f 的 try/except 中捕捉到"
   ]
  },
  {
   "cell_type": "code",
   "execution_count": 20,
   "id": "northern-protest",
   "metadata": {},
   "outputs": [],
   "source": [
    "def g(a, b):\n",
    "    return h(a, b)\n",
    "\n",
    "def h(a, b):\n",
    "    print(a, b)\n",
    "    return a / b"
   ]
  },
  {
   "cell_type": "code",
   "execution_count": 21,
   "id": "imported-driving",
   "metadata": {},
   "outputs": [
    {
     "name": "stdout",
     "output_type": "stream",
     "text": [
      "3 0\n",
      "b can not be zero.\n",
      "done.\n"
     ]
    }
   ],
   "source": [
    "f2(3, 0)  # h 中引发的异常，在 f 的 try/except 中捕捉到。异常可以跨越多层函数"
   ]
  },
  {
   "cell_type": "code",
   "execution_count": 22,
   "id": "several-layout",
   "metadata": {},
   "outputs": [
    {
     "name": "stdout",
     "output_type": "stream",
     "text": [
      "4 0\n"
     ]
    },
    {
     "ename": "ZeroDivisionError",
     "evalue": "division by zero",
     "output_type": "error",
     "traceback": [
      "\u001b[0;31m---------------------------------------------------------------------------\u001b[0m",
      "\u001b[0;31mZeroDivisionError\u001b[0m                         Traceback (most recent call last)",
      "Input \u001b[0;32mIn [22]\u001b[0m, in \u001b[0;36m<cell line: 1>\u001b[0;34m()\u001b[0m\n\u001b[0;32m----> 1\u001b[0m \u001b[43mg\u001b[49m\u001b[43m(\u001b[49m\u001b[38;5;241;43m4\u001b[39;49m\u001b[43m,\u001b[49m\u001b[43m \u001b[49m\u001b[38;5;241;43m0\u001b[39;49m\u001b[43m)\u001b[49m\n",
      "Input \u001b[0;32mIn [20]\u001b[0m, in \u001b[0;36mg\u001b[0;34m(a, b)\u001b[0m\n\u001b[1;32m      1\u001b[0m \u001b[38;5;28;01mdef\u001b[39;00m \u001b[38;5;21mg\u001b[39m(a, b):\n\u001b[0;32m----> 2\u001b[0m     \u001b[38;5;28;01mreturn\u001b[39;00m \u001b[43mh\u001b[49m\u001b[43m(\u001b[49m\u001b[43ma\u001b[49m\u001b[43m,\u001b[49m\u001b[43m \u001b[49m\u001b[43mb\u001b[49m\u001b[43m)\u001b[49m\n",
      "Input \u001b[0;32mIn [20]\u001b[0m, in \u001b[0;36mh\u001b[0;34m(a, b)\u001b[0m\n\u001b[1;32m      4\u001b[0m \u001b[38;5;28;01mdef\u001b[39;00m \u001b[38;5;21mh\u001b[39m(a, b):\n\u001b[1;32m      5\u001b[0m     \u001b[38;5;28mprint\u001b[39m(a, b)\n\u001b[0;32m----> 6\u001b[0m     \u001b[38;5;28;01mreturn\u001b[39;00m \u001b[43ma\u001b[49m\u001b[43m \u001b[49m\u001b[38;5;241;43m/\u001b[39;49m\u001b[43m \u001b[49m\u001b[43mb\u001b[49m\n",
      "\u001b[0;31mZeroDivisionError\u001b[0m: division by zero"
     ]
    }
   ],
   "source": [
    "g(4, 0)"
   ]
  },
  {
   "cell_type": "code",
   "execution_count": 23,
   "id": "equal-offense",
   "metadata": {},
   "outputs": [],
   "source": [
    "def g(a, b):\n",
    "    try:\n",
    "        x = a / b\n",
    "    except ZeroDivisionError:\n",
    "        print('in g(), b is zero')\n",
    "        x = 'inf'\n",
    "    return x\n"
   ]
  },
  {
   "cell_type": "code",
   "execution_count": 24,
   "id": "ranking-playlist",
   "metadata": {},
   "outputs": [
    {
     "name": "stdout",
     "output_type": "stream",
     "text": [
      "in g(), b is zero\n",
      "x = inf\n",
      "done.\n"
     ]
    },
    {
     "data": {
      "text/plain": [
       "'inf'"
      ]
     },
     "execution_count": 24,
     "metadata": {},
     "output_type": "execute_result"
    }
   ],
   "source": [
    "f2(3, 0)  # 异常已经在 g 中被捕捉并处理，f 中正常"
   ]
  },
  {
   "cell_type": "code",
   "execution_count": 25,
   "id": "modified-advantage",
   "metadata": {},
   "outputs": [
    {
     "name": "stdout",
     "output_type": "stream",
     "text": [
      "a, b must be number\n",
      "done.\n"
     ]
    }
   ],
   "source": [
    "f2(3, '5')   # 该异常没有被 g 捕获，在 f 中捕捉到"
   ]
  },
  {
   "cell_type": "markdown",
   "id": "proud-balance",
   "metadata": {},
   "source": [
    "### 抛出异常"
   ]
  },
  {
   "cell_type": "code",
   "execution_count": 26,
   "id": "framed-market",
   "metadata": {},
   "outputs": [],
   "source": [
    "from math import acos\n",
    "def calc_angle(x):\n",
    "    if abs(x) > 1:\n",
    "        raise ValueError('abs(x) can not be greater than 1.')\n",
    "    else:\n",
    "        return acos(x)"
   ]
  },
  {
   "cell_type": "code",
   "execution_count": 27,
   "id": "applied-character",
   "metadata": {},
   "outputs": [],
   "source": [
    "def f(a, b):\n",
    "    x = 3*a*b / (a**2 + b)\n",
    "    beta = calc_angle(x)\n",
    "    print(f'beta = {beta}')"
   ]
  },
  {
   "cell_type": "code",
   "execution_count": 28,
   "id": "coral-optics",
   "metadata": {},
   "outputs": [
    {
     "ename": "ValueError",
     "evalue": "abs(x) can not be greater than 1.",
     "output_type": "error",
     "traceback": [
      "\u001b[0;31m---------------------------------------------------------------------------\u001b[0m",
      "\u001b[0;31mValueError\u001b[0m                                Traceback (most recent call last)",
      "Input \u001b[0;32mIn [28]\u001b[0m, in \u001b[0;36m<cell line: 1>\u001b[0;34m()\u001b[0m\n\u001b[0;32m----> 1\u001b[0m \u001b[43mf\u001b[49m\u001b[43m(\u001b[49m\u001b[38;5;241;43m0.5\u001b[39;49m\u001b[43m,\u001b[49m\u001b[43m \u001b[49m\u001b[38;5;241;43m4\u001b[39;49m\u001b[43m)\u001b[49m\n",
      "Input \u001b[0;32mIn [27]\u001b[0m, in \u001b[0;36mf\u001b[0;34m(a, b)\u001b[0m\n\u001b[1;32m      1\u001b[0m \u001b[38;5;28;01mdef\u001b[39;00m \u001b[38;5;21mf\u001b[39m(a, b):\n\u001b[1;32m      2\u001b[0m     x \u001b[38;5;241m=\u001b[39m \u001b[38;5;241m3\u001b[39m\u001b[38;5;241m*\u001b[39ma\u001b[38;5;241m*\u001b[39mb \u001b[38;5;241m/\u001b[39m (a\u001b[38;5;241m*\u001b[39m\u001b[38;5;241m*\u001b[39m\u001b[38;5;241m2\u001b[39m \u001b[38;5;241m+\u001b[39m b)\n\u001b[0;32m----> 3\u001b[0m     beta \u001b[38;5;241m=\u001b[39m \u001b[43mcalc_angle\u001b[49m\u001b[43m(\u001b[49m\u001b[43mx\u001b[49m\u001b[43m)\u001b[49m\n\u001b[1;32m      4\u001b[0m     \u001b[38;5;28mprint\u001b[39m(\u001b[38;5;124mf\u001b[39m\u001b[38;5;124m'\u001b[39m\u001b[38;5;124mbeta = \u001b[39m\u001b[38;5;132;01m{\u001b[39;00mbeta\u001b[38;5;132;01m}\u001b[39;00m\u001b[38;5;124m'\u001b[39m)\n",
      "Input \u001b[0;32mIn [26]\u001b[0m, in \u001b[0;36mcalc_angle\u001b[0;34m(x)\u001b[0m\n\u001b[1;32m      2\u001b[0m \u001b[38;5;28;01mdef\u001b[39;00m \u001b[38;5;21mcalc_angle\u001b[39m(x):\n\u001b[1;32m      3\u001b[0m     \u001b[38;5;28;01mif\u001b[39;00m \u001b[38;5;28mabs\u001b[39m(x) \u001b[38;5;241m>\u001b[39m \u001b[38;5;241m1\u001b[39m:\n\u001b[0;32m----> 4\u001b[0m         \u001b[38;5;28;01mraise\u001b[39;00m \u001b[38;5;167;01mValueError\u001b[39;00m(\u001b[38;5;124m'\u001b[39m\u001b[38;5;124mabs(x) can not be greater than 1.\u001b[39m\u001b[38;5;124m'\u001b[39m)\n\u001b[1;32m      5\u001b[0m     \u001b[38;5;28;01melse\u001b[39;00m:\n\u001b[1;32m      6\u001b[0m         \u001b[38;5;28;01mreturn\u001b[39;00m acos(x)\n",
      "\u001b[0;31mValueError\u001b[0m: abs(x) can not be greater than 1."
     ]
    }
   ],
   "source": [
    "f(0.5, 4)"
   ]
  },
  {
   "cell_type": "code",
   "execution_count": 29,
   "id": "dietary-valuable",
   "metadata": {},
   "outputs": [],
   "source": [
    "def f(a, b):\n",
    "    try:\n",
    "        x = 3*a*b / (a**2 + b)\n",
    "        beta = calc_angle(x)\n",
    "    except ValueError as err:\n",
    "        print(f'value error: {err.args}')\n",
    "    except ZeroDivisionError:\n",
    "        print('a, b can not be both zero.')\n",
    "    else:\n",
    "        print(f'beta = {beta}')"
   ]
  },
  {
   "cell_type": "code",
   "execution_count": 30,
   "id": "sound-opposition",
   "metadata": {},
   "outputs": [
    {
     "name": "stdout",
     "output_type": "stream",
     "text": [
      "value error: ('abs(x) can not be greater than 1.',)\n"
     ]
    }
   ],
   "source": [
    "f(0.5, 4)"
   ]
  },
  {
   "cell_type": "code",
   "execution_count": 31,
   "id": "cultural-armstrong",
   "metadata": {},
   "outputs": [
    {
     "name": "stdout",
     "output_type": "stream",
     "text": [
      "a, b can not be both zero.\n"
     ]
    }
   ],
   "source": [
    "f(0, 0)"
   ]
  },
  {
   "cell_type": "code",
   "execution_count": 32,
   "id": "double-synthetic",
   "metadata": {},
   "outputs": [
    {
     "name": "stdout",
     "output_type": "stream",
     "text": [
      "beta = 1.4239274272662386\n"
     ]
    }
   ],
   "source": [
    "f(2, 0.1)"
   ]
  },
  {
   "cell_type": "markdown",
   "id": "individual-albuquerque",
   "metadata": {},
   "source": [
    "#### 传统方法"
   ]
  },
  {
   "cell_type": "code",
   "execution_count": 33,
   "id": "accompanied-garbage",
   "metadata": {},
   "outputs": [],
   "source": [
    "def calc_angle2(x):\n",
    "    if abs(x) > 1:\n",
    "        return False, 'abs(x) can not be greater than 1.'\n",
    "    else:\n",
    "        return True, acos(x)"
   ]
  },
  {
   "cell_type": "code",
   "execution_count": 34,
   "id": "veterinary-baseball",
   "metadata": {},
   "outputs": [],
   "source": [
    "def f2(a, b):\n",
    "    x = 3*a*b / (a**2 + b)\n",
    "    s, v = calc_angle2(x)\n",
    "    if not s:\n",
    "        print(f'error in calc_angle2: {v}')\n",
    "    else:\n",
    "        print(f'beta = {v}')"
   ]
  },
  {
   "cell_type": "code",
   "execution_count": 35,
   "id": "handed-joseph",
   "metadata": {},
   "outputs": [
    {
     "name": "stdout",
     "output_type": "stream",
     "text": [
      "error in calc_angle2: abs(x) can not be greater than 1.\n"
     ]
    }
   ],
   "source": [
    "f2(0.5, 4)"
   ]
  },
  {
   "cell_type": "code",
   "execution_count": 36,
   "id": "powerful-department",
   "metadata": {},
   "outputs": [
    {
     "name": "stdout",
     "output_type": "stream",
     "text": [
      "beta = 1.0773269321615744\n"
     ]
    }
   ],
   "source": [
    "f2(3, 0.5)"
   ]
  },
  {
   "cell_type": "code",
   "execution_count": 37,
   "id": "desperate-saturday",
   "metadata": {},
   "outputs": [],
   "source": [
    "def g2(a, b):\n",
    "    if a == 0 and b == 0:\n",
    "        return False, 'a and b can not be both zero.'\n",
    "    x = 3*a*b / (a**2 + b)\n",
    "    s, v = beta = calc_angle2(x)\n",
    "    return s, v"
   ]
  },
  {
   "cell_type": "code",
   "execution_count": 38,
   "id": "floating-daisy",
   "metadata": {},
   "outputs": [],
   "source": [
    "def f2x(a, b):\n",
    "    s, v = g2(a, b)\n",
    "    if not s:\n",
    "        print(f'error in calc_angle2: {v}')\n",
    "    else:\n",
    "        print(f'beta = {v}')"
   ]
  },
  {
   "cell_type": "code",
   "execution_count": 39,
   "id": "settled-character",
   "metadata": {},
   "outputs": [
    {
     "name": "stdout",
     "output_type": "stream",
     "text": [
      "error in calc_angle2: abs(x) can not be greater than 1.\n"
     ]
    }
   ],
   "source": [
    "f2x(0.5, 4)"
   ]
  },
  {
   "cell_type": "code",
   "execution_count": 40,
   "id": "rough-mailing",
   "metadata": {},
   "outputs": [
    {
     "name": "stdout",
     "output_type": "stream",
     "text": [
      "error in calc_angle2: a and b can not be both zero.\n"
     ]
    }
   ],
   "source": [
    "f2x(0, 0)"
   ]
  },
  {
   "cell_type": "code",
   "execution_count": 41,
   "id": "psychological-insert",
   "metadata": {},
   "outputs": [
    {
     "data": {
      "text/plain": [
       "['args', 'with_traceback']"
      ]
     },
     "execution_count": 41,
     "metadata": {},
     "output_type": "execute_result"
    }
   ],
   "source": [
    "import tools\n",
    "tools.mydir(Exception)"
   ]
  },
  {
   "cell_type": "code",
   "execution_count": 82,
   "id": "damaged-validation",
   "metadata": {},
   "outputs": [
    {
     "data": {
      "text/plain": [
       "\u001b[0;31mType:\u001b[0m        getset_descriptor\n",
       "\u001b[0;31mString form:\u001b[0m <attribute 'args' of 'BaseException' objects>\n",
       "\u001b[0;31mNamespace:\u001b[0m   Python builtin\n",
       "\u001b[0;31mDocstring:\u001b[0m   <no docstring>\n"
      ]
     },
     "metadata": {},
     "output_type": "display_data"
    }
   ],
   "source": [
    "Exception.args?"
   ]
  },
  {
   "cell_type": "markdown",
   "id": "sexual-introduction",
   "metadata": {},
   "source": [
    "### 再次抛出"
   ]
  },
  {
   "cell_type": "code",
   "execution_count": 42,
   "id": "meaningful-space",
   "metadata": {},
   "outputs": [],
   "source": [
    "def gg(a, b):\n",
    "    try:\n",
    "        x = a / b\n",
    "    except ZeroDivisionError:\n",
    "        print('b can not be zero.')\n",
    "        raise\n",
    "    return x"
   ]
  },
  {
   "cell_type": "code",
   "execution_count": 43,
   "id": "protective-notice",
   "metadata": {},
   "outputs": [
    {
     "data": {
      "text/plain": [
       "0.75"
      ]
     },
     "execution_count": 43,
     "metadata": {},
     "output_type": "execute_result"
    }
   ],
   "source": [
    "gg(3, 4)"
   ]
  },
  {
   "cell_type": "code",
   "execution_count": 44,
   "id": "independent-shannon",
   "metadata": {},
   "outputs": [
    {
     "name": "stdout",
     "output_type": "stream",
     "text": [
      "b can not be zero.\n"
     ]
    },
    {
     "ename": "ZeroDivisionError",
     "evalue": "division by zero",
     "output_type": "error",
     "traceback": [
      "\u001b[0;31m---------------------------------------------------------------------------\u001b[0m",
      "\u001b[0;31mZeroDivisionError\u001b[0m                         Traceback (most recent call last)",
      "Input \u001b[0;32mIn [44]\u001b[0m, in \u001b[0;36m<cell line: 1>\u001b[0;34m()\u001b[0m\n\u001b[0;32m----> 1\u001b[0m \u001b[43mgg\u001b[49m\u001b[43m(\u001b[49m\u001b[38;5;241;43m9\u001b[39;49m\u001b[43m,\u001b[49m\u001b[43m \u001b[49m\u001b[38;5;241;43m0\u001b[39;49m\u001b[43m)\u001b[49m\n",
      "Input \u001b[0;32mIn [42]\u001b[0m, in \u001b[0;36mgg\u001b[0;34m(a, b)\u001b[0m\n\u001b[1;32m      1\u001b[0m \u001b[38;5;28;01mdef\u001b[39;00m \u001b[38;5;21mgg\u001b[39m(a, b):\n\u001b[1;32m      2\u001b[0m     \u001b[38;5;28;01mtry\u001b[39;00m:\n\u001b[0;32m----> 3\u001b[0m         x \u001b[38;5;241m=\u001b[39m \u001b[43ma\u001b[49m\u001b[43m \u001b[49m\u001b[38;5;241;43m/\u001b[39;49m\u001b[43m \u001b[49m\u001b[43mb\u001b[49m\n\u001b[1;32m      4\u001b[0m     \u001b[38;5;28;01mexcept\u001b[39;00m \u001b[38;5;167;01mZeroDivisionError\u001b[39;00m:\n\u001b[1;32m      5\u001b[0m         \u001b[38;5;28mprint\u001b[39m(\u001b[38;5;124m'\u001b[39m\u001b[38;5;124mb can not be zero.\u001b[39m\u001b[38;5;124m'\u001b[39m)\n",
      "\u001b[0;31mZeroDivisionError\u001b[0m: division by zero"
     ]
    }
   ],
   "source": [
    "\n",
    "gg(9, 0)"
   ]
  },
  {
   "cell_type": "markdown",
   "id": "balanced-wisdom",
   "metadata": {},
   "source": [
    "### 异常转换"
   ]
  },
  {
   "cell_type": "code",
   "execution_count": 45,
   "id": "amateur-jersey",
   "metadata": {},
   "outputs": [],
   "source": [
    "def ggg(a, b):\n",
    "    try:\n",
    "        x = a / b\n",
    "    except ZeroDivisionError as err:\n",
    "        raise ValueError from err\n",
    "    return x"
   ]
  },
  {
   "cell_type": "code",
   "execution_count": 46,
   "id": "motivated-debut",
   "metadata": {},
   "outputs": [
    {
     "ename": "ValueError",
     "evalue": "",
     "output_type": "error",
     "traceback": [
      "\u001b[0;31m---------------------------------------------------------------------------\u001b[0m",
      "\u001b[0;31mZeroDivisionError\u001b[0m                         Traceback (most recent call last)",
      "Input \u001b[0;32mIn [45]\u001b[0m, in \u001b[0;36mggg\u001b[0;34m(a, b)\u001b[0m\n\u001b[1;32m      2\u001b[0m \u001b[38;5;28;01mtry\u001b[39;00m:\n\u001b[0;32m----> 3\u001b[0m     x \u001b[38;5;241m=\u001b[39m \u001b[43ma\u001b[49m\u001b[43m \u001b[49m\u001b[38;5;241;43m/\u001b[39;49m\u001b[43m \u001b[49m\u001b[43mb\u001b[49m\n\u001b[1;32m      4\u001b[0m \u001b[38;5;28;01mexcept\u001b[39;00m \u001b[38;5;167;01mZeroDivisionError\u001b[39;00m \u001b[38;5;28;01mas\u001b[39;00m err:\n",
      "\u001b[0;31mZeroDivisionError\u001b[0m: division by zero",
      "\nThe above exception was the direct cause of the following exception:\n",
      "\u001b[0;31mValueError\u001b[0m                                Traceback (most recent call last)",
      "Input \u001b[0;32mIn [46]\u001b[0m, in \u001b[0;36m<cell line: 1>\u001b[0;34m()\u001b[0m\n\u001b[0;32m----> 1\u001b[0m \u001b[43mggg\u001b[49m\u001b[43m(\u001b[49m\u001b[38;5;241;43m5\u001b[39;49m\u001b[43m,\u001b[49m\u001b[43m \u001b[49m\u001b[38;5;241;43m0\u001b[39;49m\u001b[43m)\u001b[49m\n",
      "Input \u001b[0;32mIn [45]\u001b[0m, in \u001b[0;36mggg\u001b[0;34m(a, b)\u001b[0m\n\u001b[1;32m      3\u001b[0m     x \u001b[38;5;241m=\u001b[39m a \u001b[38;5;241m/\u001b[39m b\n\u001b[1;32m      4\u001b[0m \u001b[38;5;28;01mexcept\u001b[39;00m \u001b[38;5;167;01mZeroDivisionError\u001b[39;00m \u001b[38;5;28;01mas\u001b[39;00m err:\n\u001b[0;32m----> 5\u001b[0m     \u001b[38;5;28;01mraise\u001b[39;00m \u001b[38;5;167;01mValueError\u001b[39;00m \u001b[38;5;28;01mfrom\u001b[39;00m \u001b[38;5;21;01merr\u001b[39;00m\n\u001b[1;32m      6\u001b[0m \u001b[38;5;28;01mreturn\u001b[39;00m x\n",
      "\u001b[0;31mValueError\u001b[0m: "
     ]
    }
   ],
   "source": [
    "ggg(5, 0)\n",
    "    "
   ]
  },
  {
   "cell_type": "code",
   "execution_count": 47,
   "id": "outdoor-techno",
   "metadata": {},
   "outputs": [
    {
     "name": "stdout",
     "output_type": "stream",
     "text": [
      "value error\n"
     ]
    }
   ],
   "source": [
    "try:\n",
    "    x = ggg(4, 0)\n",
    "except ValueError:\n",
    "    print('value error')\n",
    "    x = 'inf'"
   ]
  },
  {
   "cell_type": "code",
   "execution_count": 48,
   "id": "piano-services",
   "metadata": {},
   "outputs": [],
   "source": [
    "a = [3, 7, 5]"
   ]
  },
  {
   "cell_type": "code",
   "execution_count": 49,
   "id": "collect-letters",
   "metadata": {},
   "outputs": [],
   "source": [
    "it = iter(a)"
   ]
  },
  {
   "cell_type": "code",
   "execution_count": 107,
   "id": "another-system",
   "metadata": {},
   "outputs": [
    {
     "ename": "StopIteration",
     "evalue": "",
     "output_type": "error",
     "traceback": [
      "\u001b[0;31m---------------------------------------------------------------------------\u001b[0m",
      "\u001b[0;31mStopIteration\u001b[0m                             Traceback (most recent call last)",
      "\u001b[0;32m<ipython-input-107-74e64ed6c80d>\u001b[0m in \u001b[0;36m<module>\u001b[0;34m\u001b[0m\n\u001b[0;32m----> 1\u001b[0;31m \u001b[0mit\u001b[0m\u001b[0;34m.\u001b[0m\u001b[0m__next__\u001b[0m\u001b[0;34m(\u001b[0m\u001b[0;34m)\u001b[0m\u001b[0;34m\u001b[0m\u001b[0;34m\u001b[0m\u001b[0m\n\u001b[0m",
      "\u001b[0;31mStopIteration\u001b[0m: "
     ]
    }
   ],
   "source": [
    "it.__next__()"
   ]
  },
  {
   "cell_type": "code",
   "execution_count": null,
   "id": "wireless-remove",
   "metadata": {},
   "outputs": [],
   "source": []
  }
 ],
 "metadata": {
  "kernelspec": {
   "display_name": "Python 3 (ipykernel)",
   "language": "python",
   "name": "python3"
  },
  "language_info": {
   "codemirror_mode": {
    "name": "ipython",
    "version": 3
   },
   "file_extension": ".py",
   "mimetype": "text/x-python",
   "name": "python",
   "nbconvert_exporter": "python",
   "pygments_lexer": "ipython3",
   "version": "3.9.12"
  }
 },
 "nbformat": 4,
 "nbformat_minor": 5
}
