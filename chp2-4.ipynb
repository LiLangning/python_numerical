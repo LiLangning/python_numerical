{
 "cells": [
  {
   "cell_type": "markdown",
   "id": "musical-glasgow",
   "metadata": {
    "slideshow": {
     "slide_type": "slide"
    }
   },
   "source": [
    "# chp2-5-1 函数式编程\n",
    "\n",
    "- 2021-11-19\n"
   ]
  },
  {
   "cell_type": "markdown",
   "id": "extra-bumper",
   "metadata": {
    "slideshow": {
     "slide_type": "slide"
    }
   },
   "source": [
    "## 函数式编程\n",
    "\n",
    "- **函数式** 编程则将一个问题分解成一系列函数。 理想情况下，函数只接受输入并输出结果，对一个给定的输入也不会有影响输出的内部状态。 著名的函数式语言有 ML 家族（Standard ML，Ocaml 以及其他变种）和 Haskell。\n",
    "- 函数式编程的优点：\n",
    "  - 形式证明。\n",
    "  - 模块化。\n",
    "  - 组合性。\n",
    "  - 易于调试和测试。\n",
    "- Python 是一种多范式编程语言，支持过程式、面向对象和函数式编程范式，但不是纯粹的函数式编程语言。\n"
   ]
  },
  {
   "cell_type": "markdown",
   "id": "satisfied-aquarium",
   "metadata": {
    "slideshow": {
     "slide_type": "slide"
    }
   },
   "source": [
    "### Python 对函数式编程的支持\n",
    "\n",
    "- 函数是 first-class object，函数可以被赋值、可以作为函数的参数和返回值\n",
    "- lambda 函数\n",
    "- 高阶函数（函数作为参数，函数的函数）：map、reduce、filter\n",
    "- 迭代器和生成器\n",
    "- 标准库 functools、itertools 的支持\n",
    "- 装饰器"
   ]
  },
  {
   "cell_type": "markdown",
   "id": "governing-shaft",
   "metadata": {
    "slideshow": {
     "slide_type": "slide"
    }
   },
   "source": [
    "### 迭代器\n",
    "\n",
    "- 迭代器是一个表示数据流的对象；这个对象每次只返回一个元素。\n",
    "- Python 迭代器必须支持 `__next__()` 方法；这个方法不接受参数，并总是返回数据流中的下一个元素。\n",
    "- 如果数据流中没有元素，`__next__()`会抛出 `StopIteration`异常。\n",
    "- 能够创建迭代器的对象称作是可迭代的。字符串，列表、元组、字典对象都是可迭代的。"
   ]
  },
  {
   "cell_type": "code",
   "execution_count": null,
   "id": "extreme-quilt",
   "metadata": {
    "slideshow": {
     "slide_type": "slide"
    }
   },
   "outputs": [],
   "source": [
    "# 迭代器示例\n",
    "L = [3, 5, 6]\n",
    "it = iter(L)"
   ]
  },
  {
   "cell_type": "code",
   "execution_count": null,
   "id": "relevant-grocery",
   "metadata": {
    "slideshow": {
     "slide_type": "-"
    }
   },
   "outputs": [],
   "source": [
    "it"
   ]
  },
  {
   "cell_type": "code",
   "execution_count": null,
   "id": "acute-listening",
   "metadata": {
    "tags": []
   },
   "outputs": [],
   "source": [
    "dir(it)"
   ]
  },
  {
   "cell_type": "code",
   "execution_count": null,
   "id": "constant-universe",
   "metadata": {},
   "outputs": [],
   "source": [
    "next(it)"
   ]
  },
  {
   "cell_type": "code",
   "execution_count": null,
   "id": "incident-starter",
   "metadata": {},
   "outputs": [],
   "source": [
    "next(it)"
   ]
  },
  {
   "cell_type": "code",
   "execution_count": null,
   "id": "collected-label",
   "metadata": {},
   "outputs": [],
   "source": [
    "next(it)"
   ]
  },
  {
   "cell_type": "code",
   "execution_count": null,
   "id": "coated-oliver",
   "metadata": {},
   "outputs": [],
   "source": [
    "next(it)"
   ]
  },
  {
   "cell_type": "markdown",
   "id": "bronze-density",
   "metadata": {},
   "source": [
    "## 迭代器与可迭代对象的区别\n",
    "\n",
    "- 可迭代对象(Iterable object) 的`__iter__()`方法会返回一个迭代器 (Iterator);可迭代对象没有` __next__()`方法\n",
    "- 迭代器的`__next__()`方法会返回下一个迭代对象，如果迭代结束则抛出StopIteration异常\n",
    "- 迭代器自己也是一种可迭代对象，也需要实现Iterable的接口`__iter__()`\n",
    "- list，tuple，dict，str 等都是可迭代对象，`list.__iter__()` 返回的是迭代器\n",
    "- 可迭代对象用 for 循环遍历时，真正遍历的是`__iter__()`返回的迭代器\n"
   ]
  },
  {
   "cell_type": "code",
   "execution_count": null,
   "id": "modified-congo",
   "metadata": {},
   "outputs": [],
   "source": [
    "a = [2, 3, 6, 7]\n",
    "dir(a)"
   ]
  },
  {
   "cell_type": "code",
   "execution_count": null,
   "id": "manufactured-trauma",
   "metadata": {},
   "outputs": [],
   "source": [
    "next(a)"
   ]
  },
  {
   "cell_type": "code",
   "execution_count": null,
   "id": "respective-buyer",
   "metadata": {},
   "outputs": [],
   "source": [
    "ita = a.__iter__() # or ita = iter(a)"
   ]
  },
  {
   "cell_type": "code",
   "execution_count": null,
   "id": "sensitive-departure",
   "metadata": {},
   "outputs": [],
   "source": [
    "ita, type(ita)"
   ]
  },
  {
   "cell_type": "code",
   "execution_count": null,
   "id": "seeing-probe",
   "metadata": {},
   "outputs": [],
   "source": [
    "dir(ita)"
   ]
  },
  {
   "cell_type": "code",
   "execution_count": null,
   "id": "bearing-rebecca",
   "metadata": {},
   "outputs": [],
   "source": [
    "next(ita)"
   ]
  },
  {
   "cell_type": "code",
   "execution_count": null,
   "id": "cardiac-moscow",
   "metadata": {},
   "outputs": [],
   "source": [
    "for x in ita:\n",
    "    print(x)"
   ]
  },
  {
   "cell_type": "code",
   "execution_count": null,
   "id": "3173f643-8637-4c17-a470-02790a0bbfc8",
   "metadata": {},
   "outputs": [],
   "source": [
    "next(ita)"
   ]
  },
  {
   "cell_type": "markdown",
   "id": "fifty-round",
   "metadata": {},
   "source": [
    "## 迭代器应用\n",
    "\n",
    "- 访问可迭代对象中的元素\n",
    "  - next\n",
    "  - for \n",
    "- `in`，`not in`，`min()`，`max()` 均可用于迭代器\n",
    "- 委托迭代，在自己的类中实现迭代器接口\n",
    "\n"
   ]
  },
  {
   "cell_type": "markdown",
   "id": "ee798f27-60f6-4ab8-807f-c014c030e784",
   "metadata": {},
   "source": [
    "### 解包可迭代对象（`*` 的使用）"
   ]
  },
  {
   "cell_type": "code",
   "execution_count": null,
   "id": "677be011-340f-43d5-822b-ec41bb17a4ba",
   "metadata": {},
   "outputs": [],
   "source": [
    "a, b, c = (3, 6, 4)"
   ]
  },
  {
   "cell_type": "code",
   "execution_count": null,
   "id": "5c750858-b506-4f4f-8526-acd1687d4a77",
   "metadata": {},
   "outputs": [],
   "source": [
    "a, b, c = 3, 6, 4"
   ]
  },
  {
   "cell_type": "code",
   "execution_count": null,
   "id": "26580d46-f7e3-445e-bca4-072e577efeb6",
   "metadata": {},
   "outputs": [],
   "source": [
    "a, b = [3, 6], (6, 4, 2)"
   ]
  },
  {
   "cell_type": "code",
   "execution_count": null,
   "id": "141ed289-6453-4844-bb3a-1302489e8f73",
   "metadata": {},
   "outputs": [],
   "source": [
    "[*a, *b]"
   ]
  },
  {
   "cell_type": "code",
   "execution_count": null,
   "id": "7d9b475b-e3e9-48b7-9f3f-e23f09b5c1fb",
   "metadata": {},
   "outputs": [],
   "source": [
    "m, *n = b"
   ]
  },
  {
   "cell_type": "code",
   "execution_count": null,
   "id": "8e066505-a6c8-40c3-8735-f81de6d40401",
   "metadata": {},
   "outputs": [],
   "source": [
    "m, n"
   ]
  },
  {
   "cell_type": "code",
   "execution_count": null,
   "id": "768c9d2b-44e0-4cbf-9909-192ad1aa1b14",
   "metadata": {},
   "outputs": [],
   "source": [
    "x, y = iter(a)"
   ]
  },
  {
   "cell_type": "code",
   "execution_count": null,
   "id": "8aec4444-57c8-465c-a130-792db2c39188",
   "metadata": {},
   "outputs": [],
   "source": [
    "class User:\n",
    "    def __init__(self, name, age, gender):\n",
    "        self.name = name\n",
    "        self.age = age\n",
    "        self.gender = gender\n",
    "    def __iter__(self):\n",
    "        return iter((self.name, self.age, self.gender))\n"
   ]
  },
  {
   "cell_type": "code",
   "execution_count": null,
   "id": "4f386a72-74cc-4e97-bc29-c16e99a82d47",
   "metadata": {},
   "outputs": [],
   "source": [
    "u = User(\"Henry\", 90, \"male\")"
   ]
  },
  {
   "cell_type": "code",
   "execution_count": null,
   "id": "fa9fc825-a7fe-4784-b4c5-65cb6d15a718",
   "metadata": {},
   "outputs": [],
   "source": [
    "x, y, z = u"
   ]
  },
  {
   "cell_type": "code",
   "execution_count": null,
   "id": "2bf7249b-88bb-43b1-9888-e1523a5d0c99",
   "metadata": {},
   "outputs": [],
   "source": [
    "x, y, z"
   ]
  },
  {
   "cell_type": "code",
   "execution_count": null,
   "id": "1323d134-bca3-4bda-8ebb-75b201787ed0",
   "metadata": {},
   "outputs": [],
   "source": []
  },
  {
   "cell_type": "markdown",
   "id": "norwegian-values",
   "metadata": {},
   "source": [
    "## 实现迭代器\n",
    "\n",
    "- `__iter__()`方法返回自身实例（可迭代对象的要求）。\n",
    "- `__next__()`方法返回当前值，并使当前值变为下一个值。到达尾部时抛出 StopIteration 异常。\n",
    "\n"
   ]
  },
  {
   "cell_type": "code",
   "execution_count": null,
   "id": "charged-facing",
   "metadata": {},
   "outputs": [],
   "source": [
    "class Fib:\n",
    "    \"\"\" Fibonacci iterator class \"\"\"\n",
    "    def __init__(self, max=20):\n",
    "        self.a = 0\n",
    "        self.b = 1\n",
    "        self.max = max\n",
    "        \n",
    "    def __iter__(self):\n",
    "        return self\n",
    "    \n",
    "    def __next__(self):\n",
    "        if self.a > self.max:\n",
    "            raise StopIteration\n",
    "        x = self.a\n",
    "        self.a, self.b = self.b, self.a + self.b\n",
    "        return x"
   ]
  },
  {
   "cell_type": "code",
   "execution_count": null,
   "id": "aggressive-graduation",
   "metadata": {},
   "outputs": [],
   "source": [
    "fb = Fib()"
   ]
  },
  {
   "cell_type": "code",
   "execution_count": null,
   "id": "scheduled-harbor",
   "metadata": {},
   "outputs": [],
   "source": [
    "next(fb)"
   ]
  },
  {
   "cell_type": "code",
   "execution_count": null,
   "id": "heated-outline",
   "metadata": {},
   "outputs": [],
   "source": [
    "next(fb)"
   ]
  },
  {
   "cell_type": "code",
   "execution_count": null,
   "id": "damaged-postage",
   "metadata": {},
   "outputs": [],
   "source": [
    "for x in fb:\n",
    "    print(x)"
   ]
  },
  {
   "cell_type": "code",
   "execution_count": null,
   "id": "quiet-order",
   "metadata": {},
   "outputs": [],
   "source": [
    "next(fb)"
   ]
  },
  {
   "cell_type": "code",
   "execution_count": null,
   "id": "respiratory-dinner",
   "metadata": {},
   "outputs": [],
   "source": [
    "# 实现一个可迭代对象的类\n",
    "class Fib_iterable:\n",
    "    \"\"\" Fibonacci iterable class \"\"\"\n",
    "    def __init__(self, max=20):\n",
    "        self.max = max\n",
    "        \n",
    "    def __iter__(self):\n",
    "        return Fib(self.max)\n"
   ]
  },
  {
   "cell_type": "code",
   "execution_count": null,
   "id": "great-polish",
   "metadata": {},
   "outputs": [],
   "source": [
    "for x in Fib_iterable(9):\n",
    "    print(x)"
   ]
  },
  {
   "cell_type": "code",
   "execution_count": null,
   "id": "organic-entity",
   "metadata": {},
   "outputs": [],
   "source": [
    "max(Fib_iterable(90))"
   ]
  },
  {
   "cell_type": "code",
   "execution_count": null,
   "id": "parallel-proceeding",
   "metadata": {},
   "outputs": [],
   "source": [
    "sum(Fib_iterable(9))"
   ]
  },
  {
   "cell_type": "code",
   "execution_count": null,
   "id": "after-profile",
   "metadata": {},
   "outputs": [],
   "source": [
    "list(Fib_iterable(9))"
   ]
  },
  {
   "cell_type": "code",
   "execution_count": null,
   "id": "labeled-composite",
   "metadata": {},
   "outputs": [],
   "source": [
    "fit = iter(Fib_iterable(8))"
   ]
  },
  {
   "cell_type": "code",
   "execution_count": null,
   "id": "nuclear-consequence",
   "metadata": {},
   "outputs": [],
   "source": [
    "next(fit)"
   ]
  },
  {
   "cell_type": "code",
   "execution_count": null,
   "id": "wicked-elevation",
   "metadata": {},
   "outputs": [],
   "source": [
    "for x in fit:\n",
    "    print(x)"
   ]
  },
  {
   "cell_type": "code",
   "execution_count": null,
   "id": "ancient-oriental",
   "metadata": {},
   "outputs": [],
   "source": [
    "next(fit)  # 迭代器只能遍历一次"
   ]
  },
  {
   "cell_type": "code",
   "execution_count": null,
   "id": "progressive-spice",
   "metadata": {},
   "outputs": [],
   "source": [
    "# 设计一个可重复遍历的 iterator\n",
    "class Fib2:\n",
    "    \"\"\" Fibonacci iterator class \"\"\"\n",
    "    def __init__(self, max=20):\n",
    "        self.a = 0\n",
    "        self.b = 1\n",
    "        self.max = max\n",
    "        \n",
    "    def __iter__(self):\n",
    "        self.a, self.b = 0, 1  ## here！ 重置一下就可以重复使用了\n",
    "        return self\n",
    "    \n",
    "    def __next__(self):\n",
    "        if self.a > self.max:\n",
    "            raise StopIteration\n",
    "        x = self.a\n",
    "        self.a, self.b = self.b, self.a + self.b\n",
    "        return x"
   ]
  },
  {
   "cell_type": "code",
   "execution_count": null,
   "id": "immune-charleston",
   "metadata": {},
   "outputs": [],
   "source": [
    "fb = Fib2(10)"
   ]
  },
  {
   "cell_type": "code",
   "execution_count": null,
   "id": "turned-physics",
   "metadata": {},
   "outputs": [],
   "source": [
    "for x in fb:\n",
    "    print(x)"
   ]
  },
  {
   "cell_type": "code",
   "execution_count": null,
   "id": "descending-absorption",
   "metadata": {},
   "outputs": [],
   "source": [
    "sum(fb)"
   ]
  },
  {
   "cell_type": "code",
   "execution_count": null,
   "id": "reasonable-uruguay",
   "metadata": {},
   "outputs": [],
   "source": [
    "ft = iter(fb)\n",
    "next(ft)"
   ]
  },
  {
   "cell_type": "code",
   "execution_count": null,
   "id": "9bf1e200-3dae-4ae4-af82-906de4eff9de",
   "metadata": {},
   "outputs": [],
   "source": [
    "ft is fb"
   ]
  },
  {
   "cell_type": "code",
   "execution_count": null,
   "id": "crazy-argentina",
   "metadata": {},
   "outputs": [],
   "source": [
    "next(ft)"
   ]
  },
  {
   "cell_type": "code",
   "execution_count": null,
   "id": "sustained-albuquerque",
   "metadata": {},
   "outputs": [],
   "source": [
    "max(ft)"
   ]
  },
  {
   "cell_type": "code",
   "execution_count": null,
   "id": "stuck-vegetation",
   "metadata": {},
   "outputs": [],
   "source": [
    "min(ft)"
   ]
  },
  {
   "cell_type": "code",
   "execution_count": null,
   "id": "entertaining-mouth",
   "metadata": {},
   "outputs": [],
   "source": [
    "for x in ft:\n",
    "    print(x)"
   ]
  },
  {
   "cell_type": "code",
   "execution_count": null,
   "id": "recovered-fairy",
   "metadata": {},
   "outputs": [],
   "source": [
    "len(fb)"
   ]
  },
  {
   "cell_type": "markdown",
   "id": "younger-accreditation",
   "metadata": {},
   "source": [
    "!! 注意 ft 的行为。\n",
    "做过遍历（for 循环）或 sum、max、min 等，next(ft)就会出 StopIteration。\n",
    "而 遍历（for 循环）或 sum、max、min 等 则不会，这是因为这些调用都会从 __iter__() 返回一个新的重置过的对象"
   ]
  },
  {
   "cell_type": "code",
   "execution_count": null,
   "id": "34366fd5-74e2-49e3-9382-bfdd925b04e9",
   "metadata": {},
   "outputs": [],
   "source": [
    "sorted(fb, reverse=True)"
   ]
  },
  {
   "cell_type": "code",
   "execution_count": null,
   "id": "chinese-nelson",
   "metadata": {},
   "outputs": [],
   "source": [
    "list(fb)"
   ]
  },
  {
   "cell_type": "markdown",
   "id": "drawn-hobby",
   "metadata": {
    "tags": []
   },
   "source": [
    "## 为何说迭代器体现了 Python 的函数式编程范式？\n",
    "\n",
    "- 面向对象的编程范式会把一切实现为类，把所有的操作实现为类的方法。比如 `size(), min(), max(), next(), sort()`\n",
    "- Python 却把通用的操作实现为外部（内置）函数，如 `min(), max(),  sort(), next()`，用于获得迭代器的属性/操作\n",
    "- 对于迭代器，则采用「鸭子类型」特性，只需要实现某些特定借口/函数（`__next__(), __iter__()`\n",
    "\n"
   ]
  },
  {
   "cell_type": "code",
   "execution_count": null,
   "id": "6c84c078-6ce5-4a1b-bd9e-f7a169f0aa70",
   "metadata": {},
   "outputs": [],
   "source": [
    "all(fb)"
   ]
  },
  {
   "cell_type": "code",
   "execution_count": null,
   "id": "41b09b61-818a-4b56-998a-2e1c45e4f5f0",
   "metadata": {},
   "outputs": [],
   "source": [
    "any(fb)"
   ]
  },
  {
   "cell_type": "code",
   "execution_count": null,
   "id": "e43857ba-26f4-44a0-b41c-ebd32e99264f",
   "metadata": {},
   "outputs": [],
   "source": [
    "max?"
   ]
  },
  {
   "cell_type": "code",
   "execution_count": null,
   "id": "020774b7-ae39-4eb4-955b-1707fa4bfbcb",
   "metadata": {},
   "outputs": [],
   "source": [
    "sorted?"
   ]
  },
  {
   "cell_type": "code",
   "execution_count": null,
   "id": "4d128617-8c24-4aa5-ac81-1ef17b65cd57",
   "metadata": {},
   "outputs": [],
   "source": [
    "reversed?"
   ]
  },
  {
   "cell_type": "code",
   "execution_count": null,
   "id": "c3eef6a4-c1dc-4ac6-91e1-b1ae983c5127",
   "metadata": {},
   "outputs": [],
   "source": [
    "len?"
   ]
  },
  {
   "cell_type": "markdown",
   "id": "f43dd848-6d67-4bf2-9ed3-6478d5f6eb80",
   "metadata": {},
   "source": [
    "## 生成器\n",
    "\n",
    "- 生成器是一类用来简化编写迭代器工作的特殊函数。普通的函数计算并返回一个值，而生成器返回一个能返回数据流的迭代器。\n",
    "- 生成器依靠关键字 `yield`，任何包含了 [`yield`](https://docs.python.org/zh-cn/3/reference/simple_stmts.html#yield) 关键字的函数都是生成器函数。\n"
   ]
  },
  {
   "cell_type": "markdown",
   "id": "presidential-symbol",
   "metadata": {},
   "source": []
  },
  {
   "cell_type": "code",
   "execution_count": null,
   "id": "animated-dryer",
   "metadata": {},
   "outputs": [],
   "source": [
    "def generate_ints(N):\n",
    "   for i in range(N):\n",
    "       yield i\n"
   ]
  },
  {
   "cell_type": "code",
   "execution_count": null,
   "id": "consecutive-demonstration",
   "metadata": {},
   "outputs": [],
   "source": [
    "g = generate_ints(10)\n",
    "g"
   ]
  },
  {
   "cell_type": "code",
   "execution_count": null,
   "id": "conservative-outdoors",
   "metadata": {},
   "outputs": [],
   "source": [
    "next(g)"
   ]
  },
  {
   "cell_type": "code",
   "execution_count": null,
   "id": "pending-turner",
   "metadata": {},
   "outputs": [],
   "source": [
    "for i in g:\n",
    "    print(i)"
   ]
  },
  {
   "cell_type": "code",
   "execution_count": null,
   "id": "electrical-flavor",
   "metadata": {},
   "outputs": [],
   "source": [
    "max(g)"
   ]
  },
  {
   "cell_type": "code",
   "execution_count": null,
   "id": "convertible-namibia",
   "metadata": {},
   "outputs": [],
   "source": [
    "min(g)"
   ]
  },
  {
   "cell_type": "code",
   "execution_count": null,
   "id": "prescribed-functionality",
   "metadata": {},
   "outputs": [],
   "source": [
    "def gen_fib(N):\n",
    "    a, b = 0, 1\n",
    "    for i in range(N):\n",
    "        x = a\n",
    "        a, b = b, a + b\n",
    "        yield x"
   ]
  },
  {
   "cell_type": "code",
   "execution_count": null,
   "id": "invisible-castle",
   "metadata": {},
   "outputs": [],
   "source": [
    "gf = gen_fib(10)"
   ]
  },
  {
   "cell_type": "code",
   "execution_count": null,
   "id": "quiet-turning",
   "metadata": {},
   "outputs": [],
   "source": [
    "gf"
   ]
  },
  {
   "cell_type": "code",
   "execution_count": null,
   "id": "painful-madonna",
   "metadata": {},
   "outputs": [],
   "source": [
    "list(gf)"
   ]
  },
  {
   "cell_type": "code",
   "execution_count": null,
   "id": "requested-postcard",
   "metadata": {},
   "outputs": [],
   "source": [
    "next(gf)"
   ]
  },
  {
   "cell_type": "code",
   "execution_count": null,
   "id": "acoustic-pilot",
   "metadata": {},
   "outputs": [],
   "source": [
    "gf = gen_fib(10)\n",
    "max(gf)"
   ]
  },
  {
   "cell_type": "code",
   "execution_count": null,
   "id": "saving-enough",
   "metadata": {},
   "outputs": [],
   "source": [
    "gf = gen_fib(10)\n",
    "for x in gf:\n",
    "    print(x)"
   ]
  },
  {
   "cell_type": "markdown",
   "id": "solid-copyright",
   "metadata": {},
   "source": [
    "### range 是一个可迭代对象"
   ]
  },
  {
   "cell_type": "code",
   "execution_count": null,
   "id": "literary-duration",
   "metadata": {},
   "outputs": [],
   "source": [
    "ar = range(8)"
   ]
  },
  {
   "cell_type": "code",
   "execution_count": null,
   "id": "liable-federation",
   "metadata": {},
   "outputs": [],
   "source": [
    "type(ar)"
   ]
  },
  {
   "cell_type": "code",
   "execution_count": null,
   "id": "chemical-conference",
   "metadata": {},
   "outputs": [],
   "source": [
    "dir(ar)"
   ]
  },
  {
   "cell_type": "code",
   "execution_count": null,
   "id": "insured-parking",
   "metadata": {},
   "outputs": [],
   "source": [
    "iar = iter(ar)"
   ]
  },
  {
   "cell_type": "code",
   "execution_count": null,
   "id": "double-stamp",
   "metadata": {},
   "outputs": [],
   "source": [
    "next(iar)"
   ]
  },
  {
   "cell_type": "code",
   "execution_count": null,
   "id": "noticed-fluid",
   "metadata": {},
   "outputs": [],
   "source": [
    "sum(iar)"
   ]
  },
  {
   "cell_type": "markdown",
   "id": "threatened-teach",
   "metadata": {},
   "source": [
    "### 生成器表达式"
   ]
  },
  {
   "cell_type": "code",
   "execution_count": null,
   "id": "strategic-bahamas",
   "metadata": {},
   "outputs": [],
   "source": [
    "a1 = [x**3 for x in range(9)]"
   ]
  },
  {
   "cell_type": "code",
   "execution_count": null,
   "id": "boring-yukon",
   "metadata": {},
   "outputs": [],
   "source": [
    "a2 = (x**3 for x in range(9))"
   ]
  },
  {
   "cell_type": "code",
   "execution_count": null,
   "id": "ideal-special",
   "metadata": {},
   "outputs": [],
   "source": [
    "a2"
   ]
  },
  {
   "cell_type": "code",
   "execution_count": null,
   "id": "polished-cedar",
   "metadata": {
    "tags": []
   },
   "outputs": [],
   "source": [
    "dir(a2)"
   ]
  },
  {
   "cell_type": "code",
   "execution_count": null,
   "id": "endless-input",
   "metadata": {},
   "outputs": [],
   "source": [
    "next(a2)"
   ]
  },
  {
   "cell_type": "code",
   "execution_count": null,
   "id": "fresh-iraqi",
   "metadata": {},
   "outputs": [],
   "source": [
    "list(a2)"
   ]
  },
  {
   "cell_type": "code",
   "execution_count": null,
   "id": "aquatic-quality",
   "metadata": {},
   "outputs": [],
   "source": [
    "sum(i**3 for i in range(100) if i%3 != 0)  # 100 以内不是 3 的倍数的整数 3 次方和"
   ]
  },
  {
   "cell_type": "code",
   "execution_count": null,
   "id": "distant-blanket",
   "metadata": {},
   "outputs": [],
   "source": [
    "((x, y) for x in range(3) for y in range(4) )"
   ]
  },
  {
   "cell_type": "code",
   "execution_count": null,
   "id": "automated-technology",
   "metadata": {},
   "outputs": [],
   "source": [
    "list(_)"
   ]
  },
  {
   "cell_type": "code",
   "execution_count": null,
   "id": "noble-toronto",
   "metadata": {},
   "outputs": [],
   "source": [
    "天干 = '甲乙丙丁戊己庚辛壬癸'\n",
    "地支 = '子丑寅卯辰巳午未申酉戌亥'"
   ]
  },
  {
   "cell_type": "code",
   "execution_count": null,
   "id": "extra-slide",
   "metadata": {},
   "outputs": [],
   "source": [
    "f'{天干[3]}{地支[2]}'"
   ]
  },
  {
   "cell_type": "code",
   "execution_count": null,
   "id": "latter-september",
   "metadata": {},
   "outputs": [],
   "source": [
    "[f'{天干[i%10]}{地支[i%12]}' for i in range(60)]"
   ]
  },
  {
   "cell_type": "code",
   "execution_count": null,
   "id": "greenhouse-offering",
   "metadata": {},
   "outputs": [],
   "source": [
    "def 干支(年):\n",
    "    y = 年 - 1984\n",
    "    return f'{天干[y%10]}{地支[y%12]}'"
   ]
  },
  {
   "cell_type": "code",
   "execution_count": null,
   "id": "independent-north",
   "metadata": {},
   "outputs": [],
   "source": [
    "干支(2021)"
   ]
  },
  {
   "cell_type": "markdown",
   "id": "sticky-hollow",
   "metadata": {},
   "source": [
    "### 高阶函数"
   ]
  },
  {
   "cell_type": "code",
   "execution_count": null,
   "id": "optional-priority",
   "metadata": {},
   "outputs": [],
   "source": [
    "r = map(lambda x: x**2, range(9))"
   ]
  },
  {
   "cell_type": "code",
   "execution_count": null,
   "id": "august-omega",
   "metadata": {},
   "outputs": [],
   "source": [
    "r, type(r), type(map)"
   ]
  },
  {
   "cell_type": "code",
   "execution_count": null,
   "id": "adaptive-developer",
   "metadata": {},
   "outputs": [],
   "source": [
    "'__iter__' in dir(r) and '__next__' in dir(r) # r 是个 iterator"
   ]
  },
  {
   "cell_type": "code",
   "execution_count": null,
   "id": "seasonal-champagne",
   "metadata": {},
   "outputs": [],
   "source": [
    "list(r)"
   ]
  },
  {
   "cell_type": "code",
   "execution_count": null,
   "id": "anonymous-malta",
   "metadata": {},
   "outputs": [],
   "source": [
    "reduce(lambda x, y: x + y, range(1, 101))"
   ]
  },
  {
   "cell_type": "code",
   "execution_count": null,
   "id": "stone-consciousness",
   "metadata": {},
   "outputs": [],
   "source": [
    "from functools import reduce"
   ]
  },
  {
   "cell_type": "code",
   "execution_count": null,
   "id": "hourly-embassy",
   "metadata": {},
   "outputs": [],
   "source": [
    "reduce(lambda x, y: x*10 + y, [2, 4, 1, 6, 8])"
   ]
  },
  {
   "cell_type": "code",
   "execution_count": null,
   "id": "purple-store",
   "metadata": {},
   "outputs": [],
   "source": [
    "int(''.join(str(x) for x in [2, 4, 1, 6, 8]))"
   ]
  },
  {
   "cell_type": "code",
   "execution_count": null,
   "id": "agreed-kingston",
   "metadata": {},
   "outputs": [],
   "source": [
    "filter?"
   ]
  },
  {
   "cell_type": "code",
   "execution_count": null,
   "id": "breeding-explanation",
   "metadata": {},
   "outputs": [],
   "source": [
    "filter(lambda x: x%7==0, range(100))"
   ]
  },
  {
   "cell_type": "code",
   "execution_count": null,
   "id": "extraordinary-confirmation",
   "metadata": {},
   "outputs": [],
   "source": [
    "list(_)"
   ]
  },
  {
   "cell_type": "markdown",
   "id": "simplified-cartridge",
   "metadata": {},
   "source": [
    "### 筛法找素数"
   ]
  },
  {
   "cell_type": "markdown",
   "id": "healthy-romance",
   "metadata": {},
   "source": [
    "计算素数的一个方法是埃氏筛法，它的算法理解起来非常简单：\n",
    "\n",
    "首先，列出从2开始的所有自然数，构造一个序列：\n",
    "\n",
    "2, 3, 4, 5, 6, 7, 8, 9, 10, 11, 12, 13, 14, 15, 16, 17, 18, 19, 20, ...\n",
    "\n",
    "取序列的第一个数2，它一定是素数，然后用2把序列的2的倍数筛掉：\n",
    "\n",
    "3, 4, 5, 6, 7, 8, 9, 10, 11, 12, 13, 14, 15, 16, 17, 18, 19, 20, ...\n",
    "\n",
    "取新序列的第一个数3，它一定是素数，然后用3把序列的3的倍数筛掉：\n",
    "\n",
    "5, 6, 7, 8, 9, 10, 11, 12, 13, 14, 15, 16, 17, 18, 19, 20, ...\n",
    "\n",
    "取新序列的第一个数5，然后用5把序列的5的倍数筛掉：\n",
    "\n",
    "7, 8, 9, 10, 11, 12, 13, 14, 15, 16, 17, 18, 19, 20, ...\n",
    "\n",
    "不断筛下去，就可以得到所有的素数。"
   ]
  },
  {
   "cell_type": "code",
   "execution_count": null,
   "id": "aboriginal-planning",
   "metadata": {},
   "outputs": [],
   "source": [
    "def odd_iter():\n",
    "    n = 1\n",
    "    while True:\n",
    "        n += 2\n",
    "        yield n"
   ]
  },
  {
   "cell_type": "code",
   "execution_count": null,
   "id": "included-combat",
   "metadata": {},
   "outputs": [],
   "source": [
    "def not_divisible(n):\n",
    "    return lambda x: x % n > 0"
   ]
  },
  {
   "cell_type": "code",
   "execution_count": null,
   "id": "measured-encoding",
   "metadata": {},
   "outputs": [],
   "source": [
    "def primes(Nmax):\n",
    "    n = 2\n",
    "    it = _odd_iter() # 初始序列\n",
    "    while n < Nmax:\n",
    "        yield n\n",
    "        n = next(it) # 返回序列的第一个数\n",
    "        it = filter(_not_divisible(n), it) # 构造新序列\n"
   ]
  },
  {
   "cell_type": "code",
   "execution_count": null,
   "id": "social-winter",
   "metadata": {},
   "outputs": [],
   "source": [
    "list(primes(100))"
   ]
  },
  {
   "cell_type": "code",
   "execution_count": null,
   "id": "varying-conjunction",
   "metadata": {},
   "outputs": [],
   "source": [
    "sum(primes(100))"
   ]
  },
  {
   "cell_type": "code",
   "execution_count": null,
   "id": "developing-buffer",
   "metadata": {},
   "outputs": [],
   "source": [
    "import math\n",
    "sorted(range(10), key=math.sin)"
   ]
  },
  {
   "cell_type": "code",
   "execution_count": null,
   "id": "opposed-highland",
   "metadata": {},
   "outputs": [],
   "source": [
    "sorted(range(10), key=math.cos, reverse=True)"
   ]
  },
  {
   "cell_type": "code",
   "execution_count": null,
   "id": "aerial-bridal",
   "metadata": {},
   "outputs": [],
   "source": [
    "[math.cos(x) for x in _]"
   ]
  },
  {
   "cell_type": "code",
   "execution_count": null,
   "id": "fixed-haven",
   "metadata": {},
   "outputs": [],
   "source": [
    "L = [('Bob', 75), ('Adam', 92), ('Bart', 66), ('Lisa', 88)]"
   ]
  },
  {
   "cell_type": "code",
   "execution_count": null,
   "id": "extensive-jurisdiction",
   "metadata": {},
   "outputs": [],
   "source": [
    "sorted(L, key=lambda x: x[1])"
   ]
  },
  {
   "cell_type": "code",
   "execution_count": null,
   "id": "golden-mechanics",
   "metadata": {},
   "outputs": [],
   "source": [
    "sorted(L, key=lambda x: x[1], reverse=True)"
   ]
  },
  {
   "cell_type": "code",
   "execution_count": null,
   "id": "unlimited-pastor",
   "metadata": {},
   "outputs": [],
   "source": [
    "d = dict(L)"
   ]
  },
  {
   "cell_type": "code",
   "execution_count": null,
   "id": "random-waters",
   "metadata": {},
   "outputs": [],
   "source": [
    "d"
   ]
  },
  {
   "cell_type": "code",
   "execution_count": null,
   "id": "5f1e0a98-3939-42ee-baec-6041d712f36c",
   "metadata": {},
   "outputs": [],
   "source": [
    "sorted(d)"
   ]
  },
  {
   "cell_type": "code",
   "execution_count": null,
   "id": "enclosed-survival",
   "metadata": {},
   "outputs": [],
   "source": [
    "sorted(d, key=lambda x: x[1])"
   ]
  },
  {
   "cell_type": "markdown",
   "id": "median-american",
   "metadata": {},
   "source": [
    "## itertools"
   ]
  },
  {
   "cell_type": "markdown",
   "id": "imposed-monroe",
   "metadata": {},
   "source": [
    "### 常用迭代器"
   ]
  },
  {
   "cell_type": "code",
   "execution_count": null,
   "id": "asian-condition",
   "metadata": {},
   "outputs": [],
   "source": [
    "import itertools"
   ]
  },
  {
   "cell_type": "code",
   "execution_count": null,
   "id": "serious-disclaimer",
   "metadata": {},
   "outputs": [],
   "source": [
    "dir(itertools)"
   ]
  },
  {
   "cell_type": "markdown",
   "id": "sensitive-drama",
   "metadata": {},
   "source": [
    "#### count(start, step=1)\n",
    "\n",
    "返回一个无限数列（迭代器）start, start+step, start+2*step, ..."
   ]
  },
  {
   "cell_type": "code",
   "execution_count": null,
   "id": "civil-charles",
   "metadata": {},
   "outputs": [],
   "source": [
    "for i in itertools.count(1, 6):\n",
    "    if i > 20:\n",
    "        break\n",
    "    print(i)"
   ]
  },
  {
   "cell_type": "markdown",
   "id": "affiliated-upper",
   "metadata": {},
   "source": [
    "#### repeat(a, n) \n",
    "\n",
    "返回重复 a n次的迭代器"
   ]
  },
  {
   "cell_type": "code",
   "execution_count": null,
   "id": "looking-dividend",
   "metadata": {},
   "outputs": [],
   "source": [
    "for x in itertools.repeat('hello', 6):\n",
    "    print(x)"
   ]
  },
  {
   "cell_type": "code",
   "execution_count": null,
   "id": "novel-cocktail",
   "metadata": {},
   "outputs": [],
   "source": [
    "for x in itertools.repeat([3, 5, 7], 6):\n",
    "    print(x)"
   ]
  },
  {
   "cell_type": "markdown",
   "id": "brutal-warrior",
   "metadata": {},
   "source": [
    "#### cycle(iter)\n",
    "\n",
    "返回无限循环遍历 iter 的迭代器"
   ]
  },
  {
   "cell_type": "code",
   "execution_count": null,
   "id": "boolean-framework",
   "metadata": {},
   "outputs": [],
   "source": [
    "i = 0\n",
    "for x in itertools.cycle('hello'):\n",
    "    print(x)\n",
    "    i += 1\n",
    "    if i > 20:\n",
    "        break"
   ]
  },
  {
   "cell_type": "markdown",
   "id": "gross-frequency",
   "metadata": {},
   "source": [
    "#### islice(iter, [start], stop, [step]) \n",
    "\n",
    "对 iter 切片，只提取其中的 start:stop:step 数据"
   ]
  },
  {
   "cell_type": "code",
   "execution_count": null,
   "id": "mobile-hepatitis",
   "metadata": {},
   "outputs": [],
   "source": [
    "list(itertools.islice(itertools.count(), 10, 30, 3))"
   ]
  },
  {
   "cell_type": "code",
   "execution_count": null,
   "id": "prostate-airport",
   "metadata": {},
   "outputs": [],
   "source": [
    "list(itertools.islice(itertools.cycle('hello'), 15))"
   ]
  },
  {
   "cell_type": "code",
   "execution_count": null,
   "id": "electric-orbit",
   "metadata": {
    "tags": []
   },
   "outputs": [],
   "source": [
    "[f'{天干[i]}{地支[j]}' for i,j in zip(itertools.islice(itertools.cycle(range(10)), 60), \n",
    "                                        itertools.cycle(range(12)))]"
   ]
  },
  {
   "cell_type": "markdown",
   "id": "published-installation",
   "metadata": {},
   "source": [
    "#### chain(iter1, iter2, ...) \n",
    "拼接 iter1、iter2、... 返回拼接的迭代器"
   ]
  },
  {
   "cell_type": "code",
   "execution_count": null,
   "id": "paperback-collins",
   "metadata": {},
   "outputs": [],
   "source": [
    "list(itertools.chain('hello', 'python', range(9)))"
   ]
  },
  {
   "cell_type": "code",
   "execution_count": null,
   "id": "radio-enlargement",
   "metadata": {},
   "outputs": [],
   "source": [
    "list(itertools.chain.from_iterable(('hello', 'python', range(9))))"
   ]
  },
  {
   "cell_type": "markdown",
   "id": "immune-kitty",
   "metadata": {},
   "source": [
    "#### tee(iter, n)\n",
    "\n",
    "从一个可迭代对象中返回 n 个独立的迭代器."
   ]
  },
  {
   "cell_type": "code",
   "execution_count": null,
   "id": "champion-intersection",
   "metadata": {},
   "outputs": [],
   "source": [
    "a3 =itertools.tee([3, 4, 5], 3)"
   ]
  },
  {
   "cell_type": "code",
   "execution_count": null,
   "id": "pleasant-perception",
   "metadata": {},
   "outputs": [],
   "source": [
    "list(a3[0])"
   ]
  },
  {
   "cell_type": "code",
   "execution_count": null,
   "id": "threatened-density",
   "metadata": {},
   "outputs": [],
   "source": [
    "list(a3[1])"
   ]
  },
  {
   "cell_type": "code",
   "execution_count": null,
   "id": "foreign-techno",
   "metadata": {},
   "outputs": [],
   "source": [
    "next(a3[0])"
   ]
  },
  {
   "cell_type": "code",
   "execution_count": null,
   "id": "split-drilling",
   "metadata": {},
   "outputs": [],
   "source": [
    "next(a3[2])"
   ]
  },
  {
   "cell_type": "markdown",
   "id": "loved-hundred",
   "metadata": {},
   "source": [
    "#### accumulate(iter[, func, *, initial=None])\n",
    "\n",
    "创建一个迭代器，返回累积汇总值或其他双目运算函数的累积结果值（通过可选的 func 参数指定）。"
   ]
  },
  {
   "cell_type": "code",
   "execution_count": null,
   "id": "compact-affair",
   "metadata": {},
   "outputs": [],
   "source": [
    "list(itertools.accumulate(itertools.islice(itertools.count(), 10)))"
   ]
  },
  {
   "cell_type": "code",
   "execution_count": null,
   "id": "isolated-haven",
   "metadata": {},
   "outputs": [],
   "source": [
    "list(itertools.accumulate(itertools.islice(itertools.count(), 10), max))"
   ]
  },
  {
   "cell_type": "code",
   "execution_count": null,
   "id": "explicit-counter",
   "metadata": {},
   "outputs": [],
   "source": [
    "list(itertools.accumulate(itertools.islice(itertools.count(), 1, 10), operator.mul))"
   ]
  },
  {
   "cell_type": "code",
   "execution_count": null,
   "id": "indie-earth",
   "metadata": {},
   "outputs": [],
   "source": [
    "list(itertools.accumulate(itertools.islice(itertools.count(), 1, 10), operator.imul))"
   ]
  },
  {
   "cell_type": "markdown",
   "id": "unnecessary-burns",
   "metadata": {
    "tags": []
   },
   "source": [
    "#### starmap(func, iter) \n",
    "\n",
    "iter 中的每个元素都是元组，将元组拆开作为 func的参数(func(*iter[0])，返回新的迭代器"
   ]
  },
  {
   "cell_type": "code",
   "execution_count": null,
   "id": "7025eb2f-bb27-4e44-b516-c3fcc3f2308c",
   "metadata": {},
   "outputs": [],
   "source": [
    "itertools.starmap?"
   ]
  },
  {
   "cell_type": "code",
   "execution_count": null,
   "id": "e79ce6f3-1d21-4430-849b-7df591d9d0ec",
   "metadata": {},
   "outputs": [],
   "source": [
    "list(itertools.starmap(sum, [[2, 4, 6], [3, 2, 1], [4, 3,8]]))"
   ]
  },
  {
   "cell_type": "code",
   "execution_count": null,
   "id": "653f599e-dadc-4762-a9eb-555c7cd04519",
   "metadata": {},
   "outputs": [],
   "source": [
    "list(map(sum, [[2, 4, 6], [3, 2, 1], [4, 3,8]]))"
   ]
  },
  {
   "cell_type": "code",
   "execution_count": null,
   "id": "convenient-creativity",
   "metadata": {
    "tags": []
   },
   "outputs": [],
   "source": [
    "list(itertools.starmap(sum, [[(2, 4, 6)], [(3, 2, 1)], [(4, 3,8)]]))"
   ]
  },
  {
   "cell_type": "code",
   "execution_count": null,
   "id": "changing-board",
   "metadata": {},
   "outputs": [],
   "source": [
    "list(itertools.starmap(print, [[2, 4, 6], [3, 2, 1], [4, 3,8]]))"
   ]
  },
  {
   "cell_type": "markdown",
   "id": "international-latin",
   "metadata": {},
   "source": [
    "### 选择元素"
   ]
  },
  {
   "cell_type": "markdown",
   "id": "piano-accordance",
   "metadata": {},
   "source": [
    "itertools.filterfalse(func, iter) 返回 iter 中所有让 func 返回 false 的元素，返回迭代器。与 filter 相反"
   ]
  },
  {
   "cell_type": "code",
   "execution_count": null,
   "id": "commercial-mining",
   "metadata": {},
   "outputs": [],
   "source": [
    "list(itertools.filterfalse(lambda x: x%3 == 0, range(10)))"
   ]
  },
  {
   "cell_type": "code",
   "execution_count": null,
   "id": "satellite-fundamentals",
   "metadata": {},
   "outputs": [],
   "source": [
    "list(filter(lambda x: x%3 != 0, range(10)))"
   ]
  },
  {
   "cell_type": "markdown",
   "id": "urban-motivation",
   "metadata": {},
   "source": [
    "itertools.takewhile(func, iter) 返回 iter 中一直让 func 返回 true 的元素。一旦 func 返回 false ，iter 中止。\n",
    "itertools.dropwhile(func, iter) 与 takewhile 的行为相反，在 func 返回 true 的时候丢弃元素，并且返回可迭代对象的剩余结果。"
   ]
  },
  {
   "cell_type": "code",
   "execution_count": null,
   "id": "premier-sampling",
   "metadata": {},
   "outputs": [],
   "source": [
    "list(itertools.takewhile(lambda x: x < 8, range(20)))"
   ]
  },
  {
   "cell_type": "code",
   "execution_count": null,
   "id": "focal-strap",
   "metadata": {},
   "outputs": [],
   "source": [
    "list(itertools.dropwhile(lambda x: x < 8, range(20)))"
   ]
  },
  {
   "cell_type": "markdown",
   "id": "generous-sector",
   "metadata": {},
   "source": [
    "itertools.compress(data, selectors) 接受两个迭代器，然后返回 data 中使相应地 selector 中的元素为真的元素；它会在任一个迭代器耗尽的时候停止."
   ]
  },
  {
   "cell_type": "code",
   "execution_count": null,
   "id": "fantastic-forestry",
   "metadata": {},
   "outputs": [],
   "source": [
    "list(itertools.compress('hello world', map(lambda x: x%3 ==0, range(10))))"
   ]
  },
  {
   "cell_type": "markdown",
   "id": "outdoor-reader",
   "metadata": {},
   "source": [
    "### 元素分组"
   ]
  },
  {
   "cell_type": "markdown",
   "id": "severe-patient",
   "metadata": {},
   "source": [
    "itertools.groupby(iter,key_func=None)  key_func 计算 iter 中每个元素的值，根据计算值对 iter 中的元素分组，返回一个迭代器，其中每个元素是个元组，包括 值 和取得该值的元素组成的迭代器。注意分组是连续分组，不是全局分组。"
   ]
  },
  {
   "cell_type": "code",
   "execution_count": null,
   "id": "sweet-delight",
   "metadata": {},
   "outputs": [],
   "source": [
    "itertools.groupby?"
   ]
  },
  {
   "cell_type": "code",
   "execution_count": null,
   "id": "proved-motivation",
   "metadata": {},
   "outputs": [],
   "source": [
    "it = itertools.groupby(range(20), lambda x: x%3)"
   ]
  },
  {
   "cell_type": "code",
   "execution_count": null,
   "id": "committed-exploration",
   "metadata": {},
   "outputs": [],
   "source": [
    "for x in it:\n",
    "    print(x[0], list(x[1]))"
   ]
  },
  {
   "cell_type": "code",
   "execution_count": null,
   "id": "legislative-station",
   "metadata": {},
   "outputs": [],
   "source": [
    "it = itertools.groupby(range(20), lambda x: x//3)\n",
    "for x in it:\n",
    "    print(x[0], list(x[1]))"
   ]
  },
  {
   "cell_type": "markdown",
   "id": "mysterious-cycle",
   "metadata": {},
   "source": [
    "### operator 模块\n",
    "- operator 模块封装了常用的操作符对应的函数：\n",
    "  - operator.add(a, b)  <==> a + b\n",
    "  - operator.sub(a, b)  <==> a - b\n",
    "  - operator.mul(a, b)  <==> a * b\n",
    "  - operator.pow(a, b)  <==> a ** b\n",
    "  - operator.ne(a, b)  <==> a != b\n",
    "  - operator.iadd(a, b)  <==> a += b\n",
    "  - operator.imul(a, b)  <==> a *= b\n",
    "  - ...\n",
    "- operator 中的函数方便用于其他高阶函数的参数，等同于一个 lambda 函数"
   ]
  },
  {
   "cell_type": "code",
   "execution_count": null,
   "id": "compact-enclosure",
   "metadata": {},
   "outputs": [],
   "source": [
    "import tools"
   ]
  },
  {
   "cell_type": "code",
   "execution_count": null,
   "id": "looking-andrews",
   "metadata": {},
   "outputs": [],
   "source": [
    "import operator\n",
    "tools.mydir(operator)"
   ]
  },
  {
   "cell_type": "code",
   "execution_count": null,
   "id": "complimentary-fundamentals",
   "metadata": {},
   "outputs": [],
   "source": [
    "operator.add(4, 5)"
   ]
  },
  {
   "cell_type": "code",
   "execution_count": null,
   "id": "painted-florence",
   "metadata": {},
   "outputs": [],
   "source": [
    "operator.imul?"
   ]
  },
  {
   "cell_type": "markdown",
   "id": "constant-arthritis",
   "metadata": {},
   "source": [
    "### 排列组合"
   ]
  },
  {
   "cell_type": "markdown",
   "id": "fluid-conjunction",
   "metadata": {},
   "source": [
    "#### product(*iterables, repeat=1) \n",
    "可迭代对象输入的笛卡儿积。\n",
    "\n",
    "大致相当于生成器表达式中的嵌套循环。例如， product(A, B) 和 ((x,y) for x in A for y in B) 返回结果一样。"
   ]
  },
  {
   "cell_type": "code",
   "execution_count": null,
   "id": "taken-custody",
   "metadata": {},
   "outputs": [],
   "source": [
    "A = set(itertools.product(range(10), range(12))) # 所有可能的干-支组合"
   ]
  },
  {
   "cell_type": "code",
   "execution_count": null,
   "id": "resident-shirt",
   "metadata": {},
   "outputs": [],
   "source": [
    "B = set(zip(itertools.islice(itertools.cycle(range(10)), 60), \n",
    "                                        itertools.cycle(range(12)))) # 实际出现的干-支组合"
   ]
  },
  {
   "cell_type": "code",
   "execution_count": null,
   "id": "theoretical-democracy",
   "metadata": {},
   "outputs": [],
   "source": [
    "C = A-B"
   ]
  },
  {
   "cell_type": "code",
   "execution_count": null,
   "id": "proof-oakland",
   "metadata": {},
   "outputs": [],
   "source": [
    "[f'{天干[i]}{地支[j]}' for i,j in C] # 不可能出现的干-支年份"
   ]
  },
  {
   "cell_type": "markdown",
   "id": "fatty-immune",
   "metadata": {},
   "source": [
    "#### permutations(iterable, r=None) \n",
    "连续返回由 iterable 元素生成长度为 r 的排列。 个数为 \n",
    "$$\n",
    "P_n^r = \\frac{n!}{(n-r)!}\n",
    "$$"
   ]
  },
  {
   "cell_type": "markdown",
   "id": "liable-consistency",
   "metadata": {},
   "source": [
    "注意： 不检查 iter 中的相同元素，即认为iter 中不同位置的元素都是不同的"
   ]
  },
  {
   "cell_type": "code",
   "execution_count": null,
   "id": "outdoor-tolerance",
   "metadata": {},
   "outputs": [],
   "source": [
    "list(itertools.permutations('python', 2))"
   ]
  },
  {
   "cell_type": "markdown",
   "id": "nominated-pepper",
   "metadata": {},
   "source": [
    "#### combinations(iterable, r)\n",
    "返回由输入 iterable 中元素组成长度为 r 的子序列。(组合）\n",
    "\n",
    "个数为：\n",
    "$$\n",
    "C_n^r = \\frac{n!}{r!(n-r)!}\n",
    "$$\n",
    "\n",
    "combinations_with_replacement(iterable, r) 允许元素重复"
   ]
  },
  {
   "cell_type": "code",
   "execution_count": null,
   "id": "ranging-platform",
   "metadata": {},
   "outputs": [],
   "source": [
    "list(itertools.combinations('python', 2))"
   ]
  },
  {
   "cell_type": "code",
   "execution_count": null,
   "id": "apparent-fossil",
   "metadata": {},
   "outputs": [],
   "source": [
    "list(itertools.combinations_with_replacement('python', 2))"
   ]
  },
  {
   "cell_type": "markdown",
   "id": "distinguished-accent",
   "metadata": {},
   "source": [
    "### functools"
   ]
  },
  {
   "cell_type": "code",
   "execution_count": null,
   "id": "portuguese-stamp",
   "metadata": {},
   "outputs": [],
   "source": [
    "import functools"
   ]
  },
  {
   "cell_type": "code",
   "execution_count": null,
   "id": "intellectual-material",
   "metadata": {},
   "outputs": [],
   "source": [
    "dir(functools)"
   ]
  },
  {
   "cell_type": "code",
   "execution_count": null,
   "id": "incredible-blues",
   "metadata": {},
   "outputs": [],
   "source": [
    "functools.partial?"
   ]
  },
  {
   "cell_type": "code",
   "execution_count": null,
   "id": "finished-gamma",
   "metadata": {},
   "outputs": [],
   "source": [
    "def f(x, y):\n",
    "    return x * y**2 + x**2 / y"
   ]
  },
  {
   "cell_type": "code",
   "execution_count": null,
   "id": "australian-original",
   "metadata": {},
   "outputs": [],
   "source": [
    "def diff(g, x0, dx=1e-6):\n",
    "    return (g(x0 + dx) - g(x0)) / dx"
   ]
  },
  {
   "cell_type": "code",
   "execution_count": null,
   "id": "metropolitan-edition",
   "metadata": {},
   "outputs": [],
   "source": [
    "diff(functools.partial(f, 8), 2.)"
   ]
  },
  {
   "cell_type": "code",
   "execution_count": null,
   "id": "amber-observation",
   "metadata": {},
   "outputs": [],
   "source": [
    "functools.partial(f, 8)(10)  # 相当于 f(8, 10)"
   ]
  },
  {
   "cell_type": "code",
   "execution_count": null,
   "id": "historical-ontario",
   "metadata": {},
   "outputs": [],
   "source": [
    "functools.partial(f, x=8)(10)  # 相当于 f(x = 8, 10), 10 要加上关键字"
   ]
  },
  {
   "cell_type": "code",
   "execution_count": null,
   "id": "copyrighted-measurement",
   "metadata": {},
   "outputs": [],
   "source": [
    "functools.partial(f, x=8)(y = 10)  # 相当于 f(x = 8, y = 10)"
   ]
  },
  {
   "cell_type": "code",
   "execution_count": null,
   "id": "other-dallas",
   "metadata": {},
   "outputs": [],
   "source": [
    "functools.partial(f, y=8)(10)  # 相当于 f(10, y = 8)"
   ]
  },
  {
   "cell_type": "code",
   "execution_count": null,
   "id": "complicated-heaven",
   "metadata": {},
   "outputs": [],
   "source": [
    "functools.partial(f, y=8)(x = 10)  # 相当于 f(10, y = 8)"
   ]
  },
  {
   "cell_type": "markdown",
   "id": "excellent-asbestos",
   "metadata": {},
   "source": [
    "## more Pythonic"
   ]
  },
  {
   "cell_type": "markdown",
   "id": "noticed-istanbul",
   "metadata": {},
   "source": [
    "### 循环"
   ]
  },
  {
   "cell_type": "code",
   "execution_count": null,
   "id": "labeled-cycling",
   "metadata": {},
   "outputs": [],
   "source": [
    "a = [3, 6, 1, 7]\n",
    "for x in a:\n",
    "    print(x)"
   ]
  },
  {
   "cell_type": "code",
   "execution_count": null,
   "id": "fallen-currency",
   "metadata": {},
   "outputs": [],
   "source": [
    "# 多重循环\n",
    "nx, ny, nz = 15, 15, 20\n",
    "for i, j, k in itertools.product(range(nx), range(ny), range(nz)):\n",
    "    pass"
   ]
  },
  {
   "cell_type": "code",
   "execution_count": null,
   "id": "adequate-motivation",
   "metadata": {},
   "outputs": [],
   "source": [
    "b = ['alex', 'bob', 'tom']\n",
    "for x, y in zip(a, b):\n",
    "    print(f'{x}: {y}')"
   ]
  },
  {
   "cell_type": "code",
   "execution_count": null,
   "id": "historic-pharmaceutical",
   "metadata": {},
   "outputs": [],
   "source": [
    "d = dict(zip(b, a))\n",
    "d"
   ]
  },
  {
   "cell_type": "code",
   "execution_count": null,
   "id": "nonprofit-college",
   "metadata": {},
   "outputs": [],
   "source": [
    "for i, v in enumerate(b):\n",
    "    print(f'{i}: {v}')"
   ]
  },
  {
   "cell_type": "markdown",
   "id": "structural-kitchen",
   "metadata": {},
   "source": [
    "### listcomp 列表推导"
   ]
  },
  {
   "cell_type": "code",
   "execution_count": null,
   "id": "swedish-artwork",
   "metadata": {},
   "outputs": [],
   "source": [
    "[(a, b) for a in range(5) for b in range(6) if a != b]"
   ]
  },
  {
   "cell_type": "markdown",
   "id": "general-filling",
   "metadata": {},
   "source": [
    "### 判断元素存在"
   ]
  },
  {
   "cell_type": "code",
   "execution_count": null,
   "id": "floating-contributor",
   "metadata": {},
   "outputs": [],
   "source": [
    "3 in a"
   ]
  },
  {
   "cell_type": "code",
   "execution_count": null,
   "id": "lasting-mouse",
   "metadata": {},
   "outputs": [],
   "source": [
    "5 not in a"
   ]
  },
  {
   "cell_type": "code",
   "execution_count": null,
   "id": "systematic-clearing",
   "metadata": {},
   "outputs": [],
   "source": [
    "'alex' in d"
   ]
  },
  {
   "cell_type": "markdown",
   "id": "nearby-staff",
   "metadata": {},
   "source": [
    "### 文件操作"
   ]
  },
  {
   "cell_type": "code",
   "execution_count": null,
   "id": "union-lawsuit",
   "metadata": {},
   "outputs": [],
   "source": [
    "dw = {}\n",
    "with open('tools.py', 'r') as f:\n",
    "    for L in f:\n",
    "        for x in L.strip().split():\n",
    "            if x not in dw:\n",
    "                dw[x] = 1\n",
    "            else:\n",
    "                dw[x] += 1"
   ]
  },
  {
   "cell_type": "code",
   "execution_count": null,
   "id": "spread-synthetic",
   "metadata": {},
   "outputs": [],
   "source": [
    "for w in itertools.islice(sorted(dw, key=lambda x: dw[x], reverse=True), 5):\n",
    "    print(f'{w}: {dw[w]}')"
   ]
  },
  {
   "cell_type": "markdown",
   "id": "canadian-parish",
   "metadata": {},
   "source": [
    "### 思考/练习"
   ]
  },
  {
   "cell_type": "markdown",
   "id": "honey-luxembourg",
   "metadata": {
    "tags": []
   },
   "source": [
    "如何判断一个list（或其他的可迭代对象）中是否有且仅有一个元素为真？\n",
    "\n",
    "「真」的含义：bool(x) is True, 不只是 True"
   ]
  },
  {
   "cell_type": "code",
   "execution_count": null,
   "id": "b6780f8a-7cb0-4d29-a83f-b0cf66797f50",
   "metadata": {},
   "outputs": [],
   "source": [
    "8 == True"
   ]
  },
  {
   "cell_type": "code",
   "execution_count": null,
   "id": "3c1ef240-1efc-427d-b0cd-f4bc31350fa1",
   "metadata": {},
   "outputs": [],
   "source": [
    "bool(8)"
   ]
  },
  {
   "cell_type": "code",
   "execution_count": null,
   "id": "f66117c3-3cac-4f62-b84e-ae6db0a866a5",
   "metadata": {},
   "outputs": [],
   "source": [
    "a = [3, 4, 0, -3]\n",
    "[bool(x) for x in a].count(True) == 1"
   ]
  },
  {
   "cell_type": "code",
   "execution_count": null,
   "id": "4be15471-574c-4fd0-8759-6359a32ccfe4",
   "metadata": {},
   "outputs": [],
   "source": []
  },
  {
   "cell_type": "code",
   "execution_count": null,
   "id": "8f0a3e1a-621e-4792-98ef-59ac35d11146",
   "metadata": {},
   "outputs": [],
   "source": []
  },
  {
   "cell_type": "code",
   "execution_count": null,
   "id": "9681ef36-e8c4-4aca-ac62-9bff0c13a26d",
   "metadata": {},
   "outputs": [],
   "source": []
  },
  {
   "cell_type": "code",
   "execution_count": null,
   "id": "taken-mentor",
   "metadata": {
    "tags": []
   },
   "outputs": [],
   "source": [
    "def single_true(iterable):\n",
    "    i = iter(iterable)\n",
    "    return any(i) and not any(i)"
   ]
  },
  {
   "cell_type": "code",
   "execution_count": null,
   "id": "tutorial-blackjack",
   "metadata": {},
   "outputs": [],
   "source": [
    "a = [0, 2, 4]\n",
    "single_true(a)"
   ]
  },
  {
   "cell_type": "code",
   "execution_count": null,
   "id": "native-future",
   "metadata": {},
   "outputs": [],
   "source": [
    "a = {0, 2, 0, False}\n",
    "single_true(a)"
   ]
  },
  {
   "cell_type": "code",
   "execution_count": null,
   "id": "efficient-canvas",
   "metadata": {},
   "outputs": [],
   "source": [
    "def single_true2(a):\n",
    "    return list(map(bool,a)).count(True) == 1"
   ]
  },
  {
   "cell_type": "code",
   "execution_count": null,
   "id": "advanced-sailing",
   "metadata": {},
   "outputs": [],
   "source": [
    "single_true2(a)"
   ]
  },
  {
   "cell_type": "code",
   "execution_count": null,
   "id": "advisory-investigator",
   "metadata": {},
   "outputs": [],
   "source": [
    "def single_true3(a):\n",
    "    return sum(map(bool,a)) == 1 "
   ]
  },
  {
   "cell_type": "code",
   "execution_count": null,
   "id": "loaded-canberra",
   "metadata": {},
   "outputs": [],
   "source": [
    "single_true3(a)"
   ]
  },
  {
   "cell_type": "code",
   "execution_count": null,
   "id": "religious-jewelry",
   "metadata": {},
   "outputs": [],
   "source": [
    "def single_true4(a):\n",
    "    b = False\n",
    "    for v in a:\n",
    "        if v:\n",
    "            if b:\n",
    "                return False\n",
    "            b = True\n",
    "    return b"
   ]
  },
  {
   "cell_type": "code",
   "execution_count": null,
   "id": "otherwise-product",
   "metadata": {},
   "outputs": [],
   "source": [
    "single_true4(a)"
   ]
  },
  {
   "cell_type": "code",
   "execution_count": null,
   "id": "proof-philip",
   "metadata": {},
   "outputs": [],
   "source": [
    "from itertools import islice\n",
    "def single_true5(l):\n",
    "    return len(list(islice(filter(None, l), 2))) == 1"
   ]
  },
  {
   "cell_type": "code",
   "execution_count": null,
   "id": "complete-acceptance",
   "metadata": {},
   "outputs": [],
   "source": [
    "single_true5(a)"
   ]
  },
  {
   "cell_type": "code",
   "execution_count": null,
   "id": "aging-number",
   "metadata": {},
   "outputs": [],
   "source": [
    "import random\n",
    "round(random.random())"
   ]
  },
  {
   "cell_type": "code",
   "execution_count": null,
   "id": "distributed-voltage",
   "metadata": {},
   "outputs": [],
   "source": [
    "n = 100000\n",
    "a = [0]*n\n",
    "a[random.randint(0, n)] = round(random.random())\n",
    "a[random.randint(0, n)] = round(random.random())\n",
    "%timeit single_true(a)\n",
    "%timeit single_true2(a)\n",
    "%timeit single_true3(a)\n",
    "%timeit single_true4(a)\n",
    "%timeit single_true5(a)"
   ]
  },
  {
   "cell_type": "code",
   "execution_count": null,
   "id": "extended-adjustment",
   "metadata": {},
   "outputs": [],
   "source": []
  },
  {
   "cell_type": "code",
   "execution_count": null,
   "id": "sporting-fabric",
   "metadata": {},
   "outputs": [],
   "source": []
  },
  {
   "cell_type": "markdown",
   "id": "tribal-trauma",
   "metadata": {
    "tags": []
   },
   "source": [
    "## 标准库"
   ]
  },
  {
   "cell_type": "markdown",
   "id": "expected-operations",
   "metadata": {
    "tags": []
   },
   "source": [
    "### math"
   ]
  },
  {
   "cell_type": "code",
   "execution_count": null,
   "id": "destroyed-forestry",
   "metadata": {},
   "outputs": [],
   "source": [
    "import math"
   ]
  },
  {
   "cell_type": "code",
   "execution_count": null,
   "id": "empirical-thesis",
   "metadata": {},
   "outputs": [],
   "source": [
    "dir(math)"
   ]
  },
  {
   "cell_type": "code",
   "execution_count": null,
   "id": "friendly-replica",
   "metadata": {},
   "outputs": [],
   "source": [
    "math.trunc(-9.44)"
   ]
  },
  {
   "cell_type": "code",
   "execution_count": null,
   "id": "derived-deficit",
   "metadata": {},
   "outputs": [],
   "source": [
    "math.floor(-9.44)"
   ]
  },
  {
   "cell_type": "code",
   "execution_count": null,
   "id": "running-alliance",
   "metadata": {},
   "outputs": [],
   "source": [
    "math.factorial(4)"
   ]
  },
  {
   "cell_type": "code",
   "execution_count": null,
   "id": "prerequisite-stewart",
   "metadata": {},
   "outputs": [],
   "source": [
    "math.fabs(-5.78)"
   ]
  },
  {
   "cell_type": "code",
   "execution_count": null,
   "id": "dimensional-general",
   "metadata": {},
   "outputs": [],
   "source": [
    "abs(-5.78)"
   ]
  },
  {
   "cell_type": "code",
   "execution_count": null,
   "id": "sixth-personality",
   "metadata": {},
   "outputs": [],
   "source": [
    "math.modf(4.7)"
   ]
  },
  {
   "cell_type": "code",
   "execution_count": null,
   "id": "atmospheric-utility",
   "metadata": {},
   "outputs": [],
   "source": [
    "math.prod(range(1,7))"
   ]
  },
  {
   "cell_type": "code",
   "execution_count": null,
   "id": "innovative-tribute",
   "metadata": {},
   "outputs": [],
   "source": [
    "math.frexp?"
   ]
  },
  {
   "cell_type": "markdown",
   "id": "miniature-reducing",
   "metadata": {},
   "source": [
    "### 随机数"
   ]
  },
  {
   "cell_type": "code",
   "execution_count": null,
   "id": "tender-literacy",
   "metadata": {},
   "outputs": [],
   "source": [
    "import random"
   ]
  },
  {
   "cell_type": "code",
   "execution_count": null,
   "id": "complicated-conspiracy",
   "metadata": {},
   "outputs": [],
   "source": [
    "dir(random)"
   ]
  },
  {
   "cell_type": "code",
   "execution_count": null,
   "id": "acceptable-corruption",
   "metadata": {},
   "outputs": [],
   "source": [
    "[random.gauss(0, 3) for i in range(5)]"
   ]
  },
  {
   "cell_type": "code",
   "execution_count": null,
   "id": "nominated-index",
   "metadata": {},
   "outputs": [],
   "source": [
    "[random.randint(3, 70) for i in range(5)]"
   ]
  },
  {
   "cell_type": "code",
   "execution_count": null,
   "id": "mediterranean-somewhere",
   "metadata": {},
   "outputs": [],
   "source": [
    "[random.randrange(0, 100, 3)  for i in range(7)]"
   ]
  },
  {
   "cell_type": "code",
   "execution_count": null,
   "id": "universal-nutrition",
   "metadata": {},
   "outputs": [],
   "source": [
    "[random.random()  for i in range(5)]"
   ]
  },
  {
   "cell_type": "code",
   "execution_count": null,
   "id": "neutral-passage",
   "metadata": {},
   "outputs": [],
   "source": [
    "[random.uniform(2, 9)  for i in range(5)]"
   ]
  },
  {
   "cell_type": "code",
   "execution_count": null,
   "id": "individual-familiar",
   "metadata": {},
   "outputs": [],
   "source": [
    "[random.choice('hello python') for i in range(9)]"
   ]
  },
  {
   "cell_type": "code",
   "execution_count": null,
   "id": "variable-candle",
   "metadata": {},
   "outputs": [],
   "source": [
    "a = list(range(9))\n",
    "random.shuffle(a)\n",
    "a"
   ]
  },
  {
   "cell_type": "code",
   "execution_count": null,
   "id": "mathematical-liability",
   "metadata": {},
   "outputs": [],
   "source": [
    "random.sample(range(9), 3)"
   ]
  },
  {
   "cell_type": "code",
   "execution_count": null,
   "id": "educated-wellington",
   "metadata": {},
   "outputs": [],
   "source": [
    "random.sample(range(9), 9)"
   ]
  },
  {
   "cell_type": "markdown",
   "id": "determined-issue",
   "metadata": {},
   "source": [
    "### 时间与日期"
   ]
  },
  {
   "cell_type": "code",
   "execution_count": null,
   "id": "relevant-porcelain",
   "metadata": {},
   "outputs": [],
   "source": [
    "import time"
   ]
  },
  {
   "cell_type": "code",
   "execution_count": null,
   "id": "bulgarian-pharmacy",
   "metadata": {},
   "outputs": [],
   "source": [
    "time.time()"
   ]
  },
  {
   "cell_type": "code",
   "execution_count": null,
   "id": "powerful-aside",
   "metadata": {},
   "outputs": [],
   "source": [
    "time.localtime()"
   ]
  },
  {
   "cell_type": "code",
   "execution_count": null,
   "id": "durable-astrology",
   "metadata": {},
   "outputs": [],
   "source": [
    "time.gmtime()"
   ]
  },
  {
   "cell_type": "code",
   "execution_count": null,
   "id": "legendary-asbestos",
   "metadata": {},
   "outputs": [],
   "source": [
    "from datetime import date, time, datetime, timedelta"
   ]
  },
  {
   "cell_type": "code",
   "execution_count": null,
   "id": "failing-sympathy",
   "metadata": {},
   "outputs": [],
   "source": [
    "date.today()"
   ]
  },
  {
   "cell_type": "code",
   "execution_count": null,
   "id": "impressed-declaration",
   "metadata": {},
   "outputs": [],
   "source": [
    "d1 = date(1901, 4, 5)"
   ]
  },
  {
   "cell_type": "code",
   "execution_count": null,
   "id": "geological-castle",
   "metadata": {},
   "outputs": [],
   "source": [
    "dir(d1)"
   ]
  },
  {
   "cell_type": "code",
   "execution_count": null,
   "id": "hindu-engineering",
   "metadata": {},
   "outputs": [],
   "source": [
    "d1.weekday()"
   ]
  },
  {
   "cell_type": "code",
   "execution_count": null,
   "id": "fresh-luxembourg",
   "metadata": {},
   "outputs": [],
   "source": [
    "d1.ctime()"
   ]
  },
  {
   "cell_type": "code",
   "execution_count": null,
   "id": "streaming-visiting",
   "metadata": {},
   "outputs": [],
   "source": [
    "t1 = time(5, 4, 15)"
   ]
  },
  {
   "cell_type": "code",
   "execution_count": null,
   "id": "affected-samba",
   "metadata": {},
   "outputs": [],
   "source": [
    "t1"
   ]
  },
  {
   "cell_type": "code",
   "execution_count": null,
   "id": "twelve-baptist",
   "metadata": {},
   "outputs": [],
   "source": [
    "dir(t1)"
   ]
  },
  {
   "cell_type": "code",
   "execution_count": null,
   "id": "organizational-investor",
   "metadata": {},
   "outputs": [],
   "source": [
    "t1.strftime('%H:%M:%S')"
   ]
  },
  {
   "cell_type": "code",
   "execution_count": null,
   "id": "greek-blanket",
   "metadata": {},
   "outputs": [],
   "source": [
    "dt1 = datetime.combine(d1, t1)"
   ]
  },
  {
   "cell_type": "code",
   "execution_count": null,
   "id": "promising-luther",
   "metadata": {},
   "outputs": [],
   "source": [
    "dt1"
   ]
  },
  {
   "cell_type": "code",
   "execution_count": null,
   "id": "neither-norman",
   "metadata": {},
   "outputs": [],
   "source": [
    "dt = date.today() - d1"
   ]
  },
  {
   "cell_type": "code",
   "execution_count": null,
   "id": "spanish-partnership",
   "metadata": {},
   "outputs": [],
   "source": [
    "dt"
   ]
  },
  {
   "cell_type": "code",
   "execution_count": null,
   "id": "personal-musician",
   "metadata": {},
   "outputs": [],
   "source": [
    "dt.days"
   ]
  },
  {
   "cell_type": "code",
   "execution_count": null,
   "id": "elegant-discrimination",
   "metadata": {},
   "outputs": [],
   "source": [
    "datetime.now()"
   ]
  },
  {
   "cell_type": "markdown",
   "id": "regulated-rating",
   "metadata": {},
   "source": [
    "### 多线程\n"
   ]
  },
  {
   "cell_type": "code",
   "execution_count": null,
   "id": "rising-doctor",
   "metadata": {},
   "outputs": [],
   "source": [
    "import threading"
   ]
  },
  {
   "cell_type": "code",
   "execution_count": null,
   "id": "premium-buyer",
   "metadata": {},
   "outputs": [],
   "source": [
    "import functools, time"
   ]
  },
  {
   "cell_type": "code",
   "execution_count": null,
   "id": "finnish-given",
   "metadata": {},
   "outputs": [],
   "source": [
    "def loop(id, n=10):\n",
    "    for i in range(n):\n",
    "        print(f'{id}: {i}')\n",
    "        time.sleep(1)"
   ]
  },
  {
   "cell_type": "code",
   "execution_count": null,
   "id": "dietary-target",
   "metadata": {},
   "outputs": [],
   "source": [
    "t1 = threading.Thread(target=functools.partial(loop, id=1))\n",
    "t2 = threading.Thread(target=functools.partial(loop, id=2))\n",
    "t3 = threading.Thread(target=functools.partial(loop, id=3))\n",
    "t1.start()\n",
    "t2.start()\n",
    "t3.start()\n",
    "t1.join()\n",
    "t2.join()\n",
    "t3.join()"
   ]
  },
  {
   "cell_type": "code",
   "execution_count": null,
   "id": "renewable-modem",
   "metadata": {},
   "outputs": [],
   "source": [
    "class Breath(threading.Thread):\n",
    "    \"\"\" Breath thread class \"\"\"\n",
    "    def __init__(self, name, delay=1, num=10):\n",
    "        super().__init__()\n",
    "        self.name = name\n",
    "        self.delay = delay\n",
    "        self.num = num\n",
    "        \n",
    "    def run(self):\n",
    "        \"\"\" run task \"\"\"\n",
    "        for i in range(self.num):\n",
    "            print(f'{self.name} breath {i}')\n",
    "            time.sleep(self.delay)\n",
    "            \n",
    "            "
   ]
  },
  {
   "cell_type": "code",
   "execution_count": null,
   "id": "fourth-atmosphere",
   "metadata": {},
   "outputs": [],
   "source": [
    "b1 = Breath('Lisa', 1, 10)\n",
    "b2 = Breath('Anna', 2, 8)\n",
    "b3 = Breath('David', 3, 5)\n",
    "b1.start()\n",
    "b2.start()\n",
    "b3.start()\n",
    "b1.join()\n",
    "b2.join()\n",
    "b3.join()"
   ]
  },
  {
   "cell_type": "markdown",
   "id": "multiple-finding",
   "metadata": {},
   "source": [
    "### 多进程"
   ]
  },
  {
   "cell_type": "code",
   "execution_count": null,
   "id": "gentle-newton",
   "metadata": {},
   "outputs": [],
   "source": [
    "from multiprocessing import Pool, Process"
   ]
  },
  {
   "cell_type": "code",
   "execution_count": null,
   "id": "comprehensive-warehouse",
   "metadata": {},
   "outputs": [],
   "source": [
    "import math"
   ]
  },
  {
   "cell_type": "code",
   "execution_count": null,
   "id": "imperial-forward",
   "metadata": {},
   "outputs": [],
   "source": [
    "def f(x):\n",
    "    return (math.exp(math.log(1 + x**0.33) - math.sin(x)) \n",
    "            - math.acos(x**2 / (x**2 + 2)) + math.log10(x**(math.sin(x/3))))\n",
    "\n",
    "def test_pool(np, m):\n",
    "    with Pool(np) as p:\n",
    "        return p.map(f, range(m))"
   ]
  },
  {
   "cell_type": "code",
   "execution_count": null,
   "id": "tight-range",
   "metadata": {},
   "outputs": [],
   "source": [
    "%time ot = test_pool(6, 1200000)"
   ]
  },
  {
   "cell_type": "code",
   "execution_count": null,
   "id": "accompanied-recycling",
   "metadata": {},
   "outputs": [],
   "source": [
    "%time ot = test_pool(1, 1200000)"
   ]
  },
  {
   "cell_type": "code",
   "execution_count": null,
   "id": "short-optimization",
   "metadata": {},
   "outputs": [],
   "source": [
    "%time ot = test_pool(2, 1200000)"
   ]
  },
  {
   "cell_type": "code",
   "execution_count": null,
   "id": "defensive-potato",
   "metadata": {},
   "outputs": [],
   "source": [
    "%time ot = test_pool(3, 1200000)"
   ]
  },
  {
   "cell_type": "code",
   "execution_count": null,
   "id": "latest-notebook",
   "metadata": {},
   "outputs": [],
   "source": [
    "def test_pool2(np, m):\n",
    "    with Pool(np) as p:\n",
    "        return p.imap(f, range(m), 10)"
   ]
  },
  {
   "cell_type": "code",
   "execution_count": null,
   "id": "associate-application",
   "metadata": {},
   "outputs": [],
   "source": [
    "%time ot = test_pool2(1, 1200000)"
   ]
  },
  {
   "cell_type": "code",
   "execution_count": null,
   "id": "proprietary-copper",
   "metadata": {},
   "outputs": [],
   "source": [
    "%time ot = test_pool(2, 1200000)"
   ]
  },
  {
   "cell_type": "code",
   "execution_count": null,
   "id": "disciplinary-driving",
   "metadata": {},
   "outputs": [],
   "source": [
    "%time ot = test_pool(3, 1200000)"
   ]
  },
  {
   "cell_type": "code",
   "execution_count": null,
   "id": "colored-particle",
   "metadata": {},
   "outputs": [],
   "source": [
    "%time ot = test_pool(6, 1200000)"
   ]
  },
  {
   "cell_type": "code",
   "execution_count": null,
   "id": "handmade-arrest",
   "metadata": {},
   "outputs": [],
   "source": [
    "def info(title):\n",
    "    print(title)\n",
    "    print('module name:', __name__)\n",
    "    print('parent process:', os.getppid())\n",
    "    print('process id:', os.getpid())\n",
    "\n",
    "def f(name):\n",
    "    info('function f')\n",
    "    print('hello', name)\n",
    "\n",
    "if __name__ == '__main__':\n",
    "    info('main line')\n",
    "    p = Process(target=f, args=('bob',))\n",
    "    p.start()\n",
    "    p.join()\n"
   ]
  },
  {
   "cell_type": "markdown",
   "id": "entitled-wagon",
   "metadata": {},
   "source": [
    "### 启动外部程序"
   ]
  },
  {
   "cell_type": "code",
   "execution_count": null,
   "id": "middle-digit",
   "metadata": {},
   "outputs": [],
   "source": [
    "import os"
   ]
  },
  {
   "cell_type": "code",
   "execution_count": null,
   "id": "welcome-cyprus",
   "metadata": {},
   "outputs": [],
   "source": [
    "os.system?"
   ]
  },
  {
   "cell_type": "code",
   "execution_count": null,
   "id": "married-entertainment",
   "metadata": {},
   "outputs": [],
   "source": [
    "os.system(\"say 'hello'\")"
   ]
  },
  {
   "cell_type": "code",
   "execution_count": null,
   "id": "bearing-retirement",
   "metadata": {},
   "outputs": [],
   "source": [
    "os.system(\"open /system/Applications/Calendar.app\")"
   ]
  },
  {
   "cell_type": "code",
   "execution_count": null,
   "id": "recorded-recycling",
   "metadata": {},
   "outputs": [],
   "source": [
    "out = os.popen('date')"
   ]
  },
  {
   "cell_type": "code",
   "execution_count": null,
   "id": "electric-german",
   "metadata": {},
   "outputs": [],
   "source": [
    "out.read()"
   ]
  },
  {
   "cell_type": "code",
   "execution_count": null,
   "id": "pleasant-perth",
   "metadata": {},
   "outputs": [],
   "source": [
    "import subprocess"
   ]
  },
  {
   "cell_type": "code",
   "execution_count": null,
   "id": "selected-deadline",
   "metadata": {},
   "outputs": [],
   "source": [
    "dir(subprocess)"
   ]
  },
  {
   "cell_type": "code",
   "execution_count": null,
   "id": "chubby-satellite",
   "metadata": {},
   "outputs": [],
   "source": [
    "out = subprocess.run('date', capture_output=True)"
   ]
  },
  {
   "cell_type": "code",
   "execution_count": null,
   "id": "concrete-aspect",
   "metadata": {},
   "outputs": [],
   "source": [
    "out.stdout.decode('utf-8')"
   ]
  },
  {
   "cell_type": "code",
   "execution_count": null,
   "id": "right-domestic",
   "metadata": {},
   "outputs": [],
   "source": [
    "p1 = subprocess.Popen(['date', '-u'], stdout=subprocess.PIPE)"
   ]
  },
  {
   "cell_type": "code",
   "execution_count": null,
   "id": "buried-witch",
   "metadata": {},
   "outputs": [],
   "source": [
    "p1.stdout.read().decode('utf-8')"
   ]
  },
  {
   "cell_type": "code",
   "execution_count": null,
   "id": "productive-fusion",
   "metadata": {},
   "outputs": [],
   "source": []
  }
 ],
 "metadata": {
  "celltoolbar": "原始单元格格式",
  "kernelspec": {
   "display_name": "Python 3 (ipykernel)",
   "language": "python",
   "name": "python3"
  },
  "language_info": {
   "codemirror_mode": {
    "name": "ipython",
    "version": 3
   },
   "file_extension": ".py",
   "mimetype": "text/x-python",
   "name": "python",
   "nbconvert_exporter": "python",
   "pygments_lexer": "ipython3",
   "version": "3.10.4"
  },
  "toc-showmarkdowntxt": false
 },
 "nbformat": 4,
 "nbformat_minor": 5
}
